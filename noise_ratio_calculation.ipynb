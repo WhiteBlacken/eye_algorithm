{
 "cells": [
  {
   "cell_type": "code",
   "execution_count": 1,
   "metadata": {},
   "outputs": [],
   "source": [
    "import pandas as pd\n",
    "eye_tracking_data = pd.read_csv('data/raw_data_0317.csv')"
   ]
  },
  {
   "cell_type": "code",
   "execution_count": 2,
   "metadata": {},
   "outputs": [
    {
     "data": {
      "text/html": [
       "<div>\n",
       "<style scoped>\n",
       "    .dataframe tbody tr th:only-of-type {\n",
       "        vertical-align: middle;\n",
       "    }\n",
       "\n",
       "    .dataframe tbody tr th {\n",
       "        vertical-align: top;\n",
       "    }\n",
       "\n",
       "    .dataframe thead th {\n",
       "        text-align: right;\n",
       "    }\n",
       "</style>\n",
       "<table border=\"1\" class=\"dataframe\">\n",
       "  <thead>\n",
       "    <tr style=\"text-align: right;\">\n",
       "      <th></th>\n",
       "      <th>Unnamed: 0</th>\n",
       "      <th>uid</th>\n",
       "      <th>page_id</th>\n",
       "      <th>text_sequences</th>\n",
       "      <th>eye_tracking_sequences</th>\n",
       "      <th>labels</th>\n",
       "    </tr>\n",
       "  </thead>\n",
       "  <tbody>\n",
       "    <tr>\n",
       "      <th>0</th>\n",
       "      <td>0</td>\n",
       "      <td>ys</td>\n",
       "      <td>1226</td>\n",
       "      <td>[[0, 'A', 330, 95, 32, 52], [1, 'judge', 362, ...</td>\n",
       "      <td>[[499, 499, 15], [499, 497, 10470], [497, 490,...</td>\n",
       "      <td>[0, 0, 0, 0, 0, 0, 0, 0, 0, 0, 0, 0, 0, 0, 0, ...</td>\n",
       "    </tr>\n",
       "  </tbody>\n",
       "</table>\n",
       "</div>"
      ],
      "text/plain": [
       "   Unnamed: 0 uid  page_id                                     text_sequences  \\\n",
       "0           0  ys     1226  [[0, 'A', 330, 95, 32, 52], [1, 'judge', 362, ...   \n",
       "\n",
       "                              eye_tracking_sequences  \\\n",
       "0  [[499, 499, 15], [499, 497, 10470], [497, 490,...   \n",
       "\n",
       "                                              labels  \n",
       "0  [0, 0, 0, 0, 0, 0, 0, 0, 0, 0, 0, 0, 0, 0, 0, ...  "
      ]
     },
     "execution_count": 2,
     "metadata": {},
     "output_type": "execute_result"
    }
   ],
   "source": [
    "# 查看data的结构\n",
    "eye_tracking_data.head(1)"
   ]
  },
  {
   "cell_type": "code",
   "execution_count": 48,
   "metadata": {},
   "outputs": [],
   "source": [
    "import math\n",
    "\n",
    "class EyeTrackingDataEvaluate:\n",
    "    def __init__(self, eye_tracking_data_list, window_size) -> None:\n",
    "        self.data_list = eye_tracking_data_list # [x, y, timestamp, page_id]\n",
    "        self.window_size = window_size\n",
    "\n",
    "    def RmsScore(self) -> float:\n",
    "        res = 0.0\n",
    "        for i in range(len(self.data_list)):\n",
    "            if i == 0:\n",
    "                continue\n",
    "            diff_x = self.data_list[i][0]-self.data_list[i-1][0]\n",
    "            diff_y = self.data_list[i][1]-self.data_list[i-1][1]\n",
    "            res += pow(diff_x, 2) + pow(diff_y, 2)\n",
    "        res = math.sqrt(res/len(self.data_list))\n",
    "        return res\n",
    "\n",
    "    def STDWindowScore(self) -> float:\n",
    "        res = 0.0\n",
    "        dataCluster = [] # 记录聚合了的眼动\n",
    "        for i in range(len(self.data_list)):\n",
    "            if len(dataCluster) == 0:\n",
    "                dataCluster.append(self.data_list[i])\n",
    "            else:\n",
    "                if self.data_list[i][2] - dataCluster[0][2] > self.window_size:\n",
    "                    res += self.SquareVal(dataCluster)\n",
    "                    dataCluster = []\n",
    "                else:\n",
    "                    dataCluster.append(self.data_list[i])\n",
    "            if i == len(self.data_list) - 1 and len(dataCluster) > 0:\n",
    "                res += self.SquareVal(dataCluster)\n",
    "                dataCluster = []\n",
    "        res = math.sqrt(res/len(self.data_list))\n",
    "        return res\n",
    "\n",
    "    def SquareVal(self, data_list):\n",
    "        res = 0\n",
    "        avg_x = sum([data[0] for data in data_list]) / len(data_list)\n",
    "        avg_y = sum([data[1] for data in data_list]) / len(data_list)\n",
    "        for data in data_list:\n",
    "            res += pow(data[0] - avg_x, 2) + pow(data[1] - avg_y, 2)\n",
    "        return res\n",
    "\n",
    "    def FinalScore(self) -> int:\n",
    "        rmsScore = self.RmsScore()\n",
    "        stdScore = self.STDWindowScore()\n",
    "        finalScore = math.sqrt(pow(rmsScore, 2) + pow(stdScore, 2))\n",
    "        # print(f\"finalScore={finalScore}, rmsScore={rmsScore}, stdScore={stdScore}\")\n",
    "        return finalScore"
   ]
  },
  {
   "cell_type": "code",
   "execution_count": 54,
   "metadata": {},
   "outputs": [],
   "source": [
    "class EyeTrackingData:\n",
    "    def __init__(self, eye_tracking_sequences, page_id) -> None:\n",
    "        self.eye_tracking_sequences = eye_tracking_sequences\n",
    "        self.page_id = page_id"
   ]
  },
  {
   "cell_type": "code",
   "execution_count": 62,
   "metadata": {},
   "outputs": [
    {
     "name": "stdout",
     "output_type": "stream",
     "text": [
      "214\n"
     ]
    }
   ],
   "source": [
    "# 构造数据\n",
    "eye_tracking_data_list = [] # page维度\n",
    "for idx, row in eye_tracking_data.iterrows():\n",
    "    eye_tracking_data_list.append(EyeTrackingData(eval(row['eye_tracking_sequences']), row['page_id']))\n",
    "print(len(eye_tracking_data_list))\n"
   ]
  },
  {
   "cell_type": "code",
   "execution_count": 63,
   "metadata": {},
   "outputs": [
    {
     "name": "stdout",
     "output_type": "stream",
     "text": [
      "214\n"
     ]
    }
   ],
   "source": [
    "# 组装数据\n",
    "noise_degree_list = []\n",
    "for data in eye_tracking_data_list:\n",
    "    score = EyeTrackingDataEvaluate(eye_tracking_data_list=data.eye_tracking_sequences, \n",
    "                        window_size=300).FinalScore()\n",
    "    noise_degree_list.append([score, data.page_id])\n",
    "print(len(noise_degree_list))"
   ]
  },
  {
   "cell_type": "code",
   "execution_count": 65,
   "metadata": {},
   "outputs": [
    {
     "data": {
      "image/png": "[encoded data removed]",
      "text/plain": [
       "<Figure size 500x500 with 1 Axes>"
      ]
     },
     "metadata": {},
     "output_type": "display_data"
    }
   ],
   "source": [
    "import seaborn as sns\n",
    "import matplotlib.pyplot as plt\n",
    "\n",
    "sns.displot([x[0] for x in noise_degree_list], kde=True)  # kde=True 表示同时绘制核密度估计图\n",
    "plt.xlabel('Value')\n",
    "plt.ylabel('Frequency')\n",
    "plt.title('Histogram and KDE Plot')\n",
    "plt.show()"
   ]
  },
  {
   "cell_type": "code",
   "execution_count": 79,
   "metadata": {},
   "outputs": [
    {
     "name": "stdout",
     "output_type": "stream",
     "text": [
      "阈值为: 149.59289047894688\n"
     ]
    }
   ],
   "source": [
    "# 确定异常的阈值\n",
    "import numpy as np\n",
    "\n",
    "mean = np.mean([x[0] for x in noise_degree_list]) # [score, page_id]\n",
    "std = np.std([x[0] for x in noise_degree_list])\n",
    "\n",
    "threshold = mean + 2 * std  # 假设以均值加上 2 个标准差为阈值\n",
    "\n",
    "print(\"阈值为:\", threshold)"
   ]
  },
  {
   "cell_type": "code",
   "execution_count": 80,
   "metadata": {},
   "outputs": [
    {
     "name": "stdout",
     "output_type": "stream",
     "text": [
      "[[166.83563761158283, 2671], [158.71707261137402, 2677], [152.2402431386577, 2691], [160.33176608373648, 2726], [156.42099064680048, 2752], [153.2314377574849, 2753], [199.80773952953072, 2762], [204.1865665726772, 2763], [181.86630522007613, 2787]]\n"
     ]
    }
   ],
   "source": [
    "# 拆分数据集\n",
    "# 1. 先看超出阈值的有多少个\n",
    "print([x for x in noise_degree_list if x[0] > 149])"
   ]
  },
  {
   "cell_type": "code",
   "execution_count": 82,
   "metadata": {},
   "outputs": [
    {
     "name": "stdout",
     "output_type": "stream",
     "text": [
      "0.6666666666666666\n"
     ]
    }
   ],
   "source": [
    "# 测试拆分和人工判断的是否一致。\n",
    "handcraft_skip_data_page = set()\n",
    "skip_data_split_by_hand = pd.read_csv('data/skip_data.csv')\n",
    "for idx, row in skip_data_split_by_hand.iterrows():\n",
    "    handcraft_skip_data_page.add(row['page_id'])\n",
    "error_cnt = 0\n",
    "score_skip_data_page = [x[1] for x in noise_degree_list if x[0] > 149]\n",
    "page_id_by_noise_degree = score_skip_data_page\n",
    "for page_id in page_id_by_noise_degree:\n",
    "    if page_id not in handcraft_skip_data_page:\n",
    "        error_cnt+=1\n",
    "print(error_cnt/len(score_skip_data_page))\n",
    "# 不一致率很高，要找出几个case看看，到底哪种划分的方式更好。"
   ]
  },
  {
   "cell_type": "code",
   "execution_count": 86,
   "metadata": {},
   "outputs": [
    {
     "name": "stdout",
     "output_type": "stream",
     "text": [
      "9\n",
      "205\n"
     ]
    }
   ],
   "source": [
    "# 拆分数据集\n",
    "condition = eye_tracking_data['page_id'].isin(score_skip_data_page)\n",
    "skip_data = eye_tracking_data[condition]\n",
    "not_skip_data = eye_tracking_data[~condition]\n",
    "print(len(skip_data))\n",
    "print(len(not_skip_data))\n",
    "skip_data.to_csv('data/final_data/skip_data.csv')\n",
    "not_skip_data.to_csv('data/final_data/not_skip_data.csv')"
   ]
  },
  {
   "cell_type": "code",
   "execution_count": null,
   "metadata": {},
   "outputs": [],
   "source": []
  }
 ],
 "metadata": {
  "kernelspec": {
   "display_name": "base",
   "language": "python",
   "name": "python3"
  },
  "language_info": {
   "codemirror_mode": {
    "name": "ipython",
    "version": 3
   },
   "file_extension": ".py",
   "mimetype": "text/x-python",
   "name": "python",
   "nbconvert_exporter": "python",
   "pygments_lexer": "ipython3",
   "version": "3.12.2"
  }
 },
 "nbformat": 4,
 "nbformat_minor": 2
}
