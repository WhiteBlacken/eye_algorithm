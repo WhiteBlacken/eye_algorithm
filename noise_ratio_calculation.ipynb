{
 "cells": [
  {
   "cell_type": "code",
   "execution_count": 6,
   "metadata": {},
   "outputs": [],
   "source": [
    "import pandas as pd\n",
    "eye_tracking_data = pd.read_csv('data/raw_data_0317.csv')"
   ]
  },
  {
   "cell_type": "code",
   "execution_count": 8,
   "metadata": {},
   "outputs": [
    {
     "data": {
      "text/html": [
       "<div>\n",
       "<style scoped>\n",
       "    .dataframe tbody tr th:only-of-type {\n",
       "        vertical-align: middle;\n",
       "    }\n",
       "\n",
       "    .dataframe tbody tr th {\n",
       "        vertical-align: top;\n",
       "    }\n",
       "\n",
       "    .dataframe thead th {\n",
       "        text-align: right;\n",
       "    }\n",
       "</style>\n",
       "<table border=\"1\" class=\"dataframe\">\n",
       "  <thead>\n",
       "    <tr style=\"text-align: right;\">\n",
       "      <th></th>\n",
       "      <th>Unnamed: 0</th>\n",
       "      <th>uid</th>\n",
       "      <th>page_id</th>\n",
       "      <th>text_sequences</th>\n",
       "      <th>eye_tracking_sequences</th>\n",
       "      <th>labels</th>\n",
       "    </tr>\n",
       "  </thead>\n",
       "  <tbody>\n",
       "    <tr>\n",
       "      <th>0</th>\n",
       "      <td>0</td>\n",
       "      <td>ys</td>\n",
       "      <td>1226</td>\n",
       "      <td>[[0, 'A', 330, 95, 32, 52], [1, 'judge', 362, ...</td>\n",
       "      <td>[[499, 499, 15], [499, 497, 10470], [497, 490,...</td>\n",
       "      <td>[0, 0, 0, 0, 0, 0, 0, 0, 0, 0, 0, 0, 0, 0, 0, ...</td>\n",
       "    </tr>\n",
       "  </tbody>\n",
       "</table>\n",
       "</div>"
      ],
      "text/plain": [
       "   Unnamed: 0 uid  page_id                                     text_sequences  \\\n",
       "0           0  ys     1226  [[0, 'A', 330, 95, 32, 52], [1, 'judge', 362, ...   \n",
       "\n",
       "                              eye_tracking_sequences  \\\n",
       "0  [[499, 499, 15], [499, 497, 10470], [497, 490,...   \n",
       "\n",
       "                                              labels  \n",
       "0  [0, 0, 0, 0, 0, 0, 0, 0, 0, 0, 0, 0, 0, 0, 0, ...  "
      ]
     },
     "execution_count": 8,
     "metadata": {},
     "output_type": "execute_result"
    }
   ],
   "source": [
    "# 查看data的结构\n",
    "eye_tracking_data.head(1)"
   ]
  },
  {
   "cell_type": "code",
   "execution_count": null,
   "metadata": {},
   "outputs": [],
   "source": [
    "import math\n",
    "class EyeTrackingData:\n",
    "    def __init__(self, x, y, timestamp) -> None:\n",
    "        self.x = x\n",
    "        self.y = y\n",
    "        self.timestamp = timestamp\n",
    "\n",
    "class EyeTrackingDataEvaluate:\n",
    "    def __init__(self, eye_tracking_data_list, window_size) -> None:\n",
    "        self.eye_tracking_data_list = eye_tracking_data_list\n",
    "        self.window_size = window_size\n",
    "        pass\n",
    "\n",
    "    def RmsScore(self) -> float:\n",
    "        return 1.0\n",
    "\n",
    "    def STDWindowScore(self) -> float:\n",
    "        return 1.0\n",
    "\n",
    "    def FinalScore(self) -> int:\n",
    "        rmsScore = self.RmsScore()\n",
    "        stdScore = self.STDWindowScore()\n",
    "        finalScore = math.sqrt(pow(rmsScore, 2) + pow(stdScore, 2))\n",
    "        print(f\"finalScore={finalScore}, rmsScore={rmsScore}, stdScore={stdScore}\")\n",
    "        return finalScore"
   ]
  }
 ],
 "metadata": {
  "kernelspec": {
   "display_name": "base",
   "language": "python",
   "name": "python3"
  },
  "language_info": {
   "codemirror_mode": {
    "name": "ipython",
    "version": 3
   },
   "file_extension": ".py",
   "mimetype": "text/x-python",
   "name": "python",
   "nbconvert_exporter": "python",
   "pygments_lexer": "ipython3",
   "version": "3.12.2"
  }
 },
 "nbformat": 4,
 "nbformat_minor": 2
}
