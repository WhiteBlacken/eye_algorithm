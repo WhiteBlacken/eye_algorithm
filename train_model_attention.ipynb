{
 "cells": [
  {
   "cell_type": "code",
   "execution_count": 2,
   "metadata": {},
   "outputs": [
    {
     "name": "stdout",
     "output_type": "stream",
     "text": [
      "The autoreload extension is already loaded. To reload it, use:\n",
      "  %reload_ext autoreload\n"
     ]
    }
   ],
   "source": [
    "%load_ext autoreload\n",
    "%autoreload 2"
   ]
  },
  {
   "cell_type": "code",
   "execution_count": 3,
   "metadata": {},
   "outputs": [
    {
     "name": "stdout",
     "output_type": "stream",
     "text": [
      "Using device: cuda\n"
     ]
    }
   ],
   "source": [
    "import torch\n",
    "device = torch.device(\"cuda\" if torch.cuda.is_available() else \"cpu\")\n",
    "print(f\"Using device: {device}\")"
   ]
  },
  {
   "cell_type": "code",
   "execution_count": 9,
   "metadata": {},
   "outputs": [],
   "source": [
    "from torch.utils.data import random_split\n",
    "from torch.utils.data import DataLoader\n",
    "from data_process import TextEyeTrackingDataset\n",
    "import numpy as np\n",
    "\n",
    "# torch.manual_seed(seed)\n",
    "# np.random.seed(seed)\n",
    "\n",
    "# 加载数据\n",
    "dataset = TextEyeTrackingDataset('data/not_skip_data.csv')\n",
    "batch_size = 1\n",
    "\n",
    "# 假设dataset是你已经加载的完整数据集\n",
    "train_size = int(len(dataset) * 0.8)  # 以80%的数据作为训练集\n",
    "test_size = len(dataset) - train_size  # 剩余20%的数据作为测试集\n",
    "train_dataset, test_dataset = random_split(dataset, [train_size, test_size])\n",
    "\n",
    "train_loader = DataLoader(train_dataset, batch_size=batch_size, shuffle=True)\n",
    "test_loader = DataLoader(test_dataset, batch_size=batch_size, shuffle=False)"
   ]
  },
  {
   "cell_type": "code",
   "execution_count": 35,
   "metadata": {},
   "outputs": [
    {
     "name": "stdout",
     "output_type": "stream",
     "text": [
      "-----Epoch 1-------\n",
      "Train metric in Epoch 1, Loss: 0.012005878612399101, Accuracy: 0.7, AUC: 0.42, Precision: 0.01, Recall: 0.12, F1-score: 0.02\n",
      "Test metric in Epoch 1, Loss: 0.04598188400268555, Accuracy: 0.5, AUC: 0.74, Precision: 0.05, Recall: 1.0, F1-score: 0.1\n",
      "-----Epoch 2-------\n",
      "Train metric in Epoch 2, Loss: 0.014055262319743633, Accuracy: 0.9, AUC: 0.65, Precision: 0.24, Recall: 0.36, F1-score: 0.29\n",
      "Test metric in Epoch 2, Loss: 0.04577644541859627, Accuracy: 0.79, AUC: 0.41, Precision: 0.0, Recall: 0.0, F1-score: 0\n",
      "-----Epoch 3-------\n",
      "Train metric in Epoch 3, Loss: 0.009375122375786304, Accuracy: 1.0, AUC: 0.5, Precision: 0.0, Recall: 0.0, F1-score: 0\n",
      "Test metric in Epoch 3, Loss: 0.04558242857456207, Accuracy: 0.97, AUC: 0.5, Precision: 0.0, Recall: 0.0, F1-score: 0\n",
      "-----Epoch 4-------\n",
      "Train metric in Epoch 4, Loss: 0.011931941844522953, Accuracy: 0.97, AUC: 0.5, Precision: 0.0, Recall: 0.0, F1-score: 0\n",
      "Test metric in Epoch 4, Loss: 0.04533892497420311, Accuracy: 0.97, AUC: 0.5, Precision: 0.0, Recall: 0.0, F1-score: 0\n",
      "-----Epoch 5-------\n",
      "Train metric in Epoch 5, Loss: 0.010472483932971954, Accuracy: 0.99, AUC: 0.5, Precision: 0.0, Recall: 0.0, F1-score: 0\n",
      "Test metric in Epoch 5, Loss: 0.045178480446338654, Accuracy: 0.97, AUC: 0.5, Precision: 0.0, Recall: 0.0, F1-score: 0\n",
      "-----Epoch 6-------\n",
      "Train metric in Epoch 6, Loss: 0.010679244063794613, Accuracy: 0.98, AUC: 0.5, Precision: 0.0, Recall: 0.0, F1-score: 0\n",
      "Test metric in Epoch 6, Loss: 0.04512970149517059, Accuracy: 0.97, AUC: 0.5, Precision: 0.0, Recall: 0.0, F1-score: 0\n",
      "-----Epoch 7-------\n",
      "Train metric in Epoch 7, Loss: 0.013589545153081417, Accuracy: 0.95, AUC: 0.5, Precision: 0.0, Recall: 0.0, F1-score: 0\n",
      "Test metric in Epoch 7, Loss: 0.04478336498141289, Accuracy: 0.97, AUC: 0.5, Precision: 0.0, Recall: 0.0, F1-score: 0\n",
      "-----Epoch 8-------\n",
      "Train metric in Epoch 8, Loss: 0.015449871309101582, Accuracy: 0.93, AUC: 0.58, Precision: 0.5, Recall: 0.17, F1-score: 0.25\n",
      "Test metric in Epoch 8, Loss: 0.04466133937239647, Accuracy: 0.97, AUC: 0.5, Precision: 0.0, Recall: 0.0, F1-score: 0\n",
      "-----Epoch 9-------\n",
      "Train metric in Epoch 9, Loss: 0.011513981968164444, Accuracy: 0.97, AUC: 0.5, Precision: 0.0, Recall: 0.0, F1-score: 0\n",
      "Test metric in Epoch 9, Loss: 0.04454534873366356, Accuracy: 0.97, AUC: 0.5, Precision: 0.0, Recall: 0.0, F1-score: 0\n",
      "-----Epoch 10-------\n",
      "Train metric in Epoch 10, Loss: 0.011690009385347366, Accuracy: 0.97, AUC: 0.5, Precision: 0.0, Recall: 0.0, F1-score: 0\n",
      "Test metric in Epoch 10, Loss: 0.044311560690402985, Accuracy: 0.97, AUC: 0.5, Precision: 0.0, Recall: 0.0, F1-score: 0\n",
      "-----Epoch 11-------\n",
      "Train metric in Epoch 11, Loss: 0.009557822719216347, Accuracy: 0.99, AUC: 0.5, Precision: 0.0, Recall: 0.0, F1-score: 0\n",
      "Test metric in Epoch 11, Loss: 0.04403753951191902, Accuracy: 0.97, AUC: 0.5, Precision: 0.0, Recall: 0.0, F1-score: 0\n",
      "-----Epoch 12-------\n",
      "Train metric in Epoch 12, Loss: 0.011407081969082355, Accuracy: 0.97, AUC: 0.5, Precision: 0.0, Recall: 0.0, F1-score: 0\n",
      "Test metric in Epoch 12, Loss: 0.04384183883666992, Accuracy: 0.97, AUC: 0.5, Precision: 0.0, Recall: 0.0, F1-score: 0\n",
      "-----Epoch 13-------\n",
      "Train metric in Epoch 13, Loss: 0.008493850007653236, Accuracy: 1.0, AUC: 0.5, Precision: 0.0, Recall: 0.0, F1-score: 0\n",
      "Test metric in Epoch 13, Loss: 0.043621666729450226, Accuracy: 0.97, AUC: 0.5, Precision: 0.0, Recall: 0.0, F1-score: 0\n",
      "-----Epoch 14-------\n",
      "Train metric in Epoch 14, Loss: 0.008900821208953857, Accuracy: 0.99, AUC: 0.5, Precision: 0.0, Recall: 0.0, F1-score: 0\n",
      "Test metric in Epoch 14, Loss: 0.0432647205889225, Accuracy: 0.97, AUC: 0.5, Precision: 0.0, Recall: 0.0, F1-score: 0\n",
      "-----Epoch 15-------\n",
      "Train metric in Epoch 15, Loss: 0.008279514499008656, Accuracy: 1.0, AUC: 0.5, Precision: 0.0, Recall: 0.0, F1-score: 0\n",
      "Test metric in Epoch 15, Loss: 0.04315580800175667, Accuracy: 0.97, AUC: 0.5, Precision: 0.0, Recall: 0.0, F1-score: 0\n",
      "-----Epoch 16-------\n",
      "Train metric in Epoch 16, Loss: 0.00819594506174326, Accuracy: 1.0, AUC: 0.5, Precision: 0.0, Recall: 0.0, F1-score: 0\n",
      "Test metric in Epoch 16, Loss: 0.04302680492401123, Accuracy: 0.97, AUC: 0.5, Precision: 0.0, Recall: 0.0, F1-score: 0\n",
      "-----Epoch 17-------\n",
      "Train metric in Epoch 17, Loss: 0.008216884918510914, Accuracy: 1.0, AUC: 0.5, Precision: 0.0, Recall: 0.0, F1-score: 0\n",
      "Test metric in Epoch 17, Loss: 0.04302112013101578, Accuracy: 0.97, AUC: 0.5, Precision: 0.0, Recall: 0.0, F1-score: 0\n",
      "-----Epoch 18-------\n",
      "Train metric in Epoch 18, Loss: 0.008205598220229149, Accuracy: 1.0, AUC: 0.5, Precision: 0.0, Recall: 0.0, F1-score: 0\n",
      "Test metric in Epoch 18, Loss: 0.043138813227415085, Accuracy: 0.97, AUC: 0.5, Precision: 0.0, Recall: 0.0, F1-score: 0\n",
      "-----Epoch 19-------\n",
      "Train metric in Epoch 19, Loss: 0.009319953620433807, Accuracy: 0.99, AUC: 0.5, Precision: 0.0, Recall: 0.0, F1-score: 0\n",
      "Test metric in Epoch 19, Loss: 0.04290163144469261, Accuracy: 0.97, AUC: 0.5, Precision: 0.0, Recall: 0.0, F1-score: 0\n",
      "-----Epoch 20-------\n",
      "Train metric in Epoch 20, Loss: 0.010195918381214142, Accuracy: 0.98, AUC: 0.5, Precision: 0.0, Recall: 0.0, F1-score: 0\n",
      "Test metric in Epoch 20, Loss: 0.042905207723379135, Accuracy: 0.97, AUC: 0.5, Precision: 0.0, Recall: 0.0, F1-score: 0\n",
      "-----Epoch 21-------\n",
      "Train metric in Epoch 21, Loss: 0.008063792251050472, Accuracy: 1.0, AUC: 0.5, Precision: 0.0, Recall: 0.0, F1-score: 0\n",
      "Test metric in Epoch 21, Loss: 0.04266814887523651, Accuracy: 0.97, AUC: 0.5, Precision: 0.0, Recall: 0.0, F1-score: 0\n",
      "-----Epoch 22-------\n",
      "Train metric in Epoch 22, Loss: 0.01096636988222599, Accuracy: 0.97, AUC: 0.5, Precision: 0.0, Recall: 0.0, F1-score: 0\n",
      "Test metric in Epoch 22, Loss: 0.04262430593371391, Accuracy: 0.97, AUC: 0.5, Precision: 0.0, Recall: 0.0, F1-score: 0\n",
      "-----Epoch 23-------\n",
      "Train metric in Epoch 23, Loss: 0.008053604513406754, Accuracy: 1.0, AUC: 0.5, Precision: 0.0, Recall: 0.0, F1-score: 0\n",
      "Test metric in Epoch 23, Loss: 0.04265453293919563, Accuracy: 0.97, AUC: 0.5, Precision: 0.0, Recall: 0.0, F1-score: 0\n",
      "-----Epoch 24-------\n",
      "Train metric in Epoch 24, Loss: 0.008989077992737293, Accuracy: 0.99, AUC: 0.5, Precision: 0.0, Recall: 0.0, F1-score: 0\n",
      "Test metric in Epoch 24, Loss: 0.04243835434317589, Accuracy: 0.97, AUC: 0.5, Precision: 0.0, Recall: 0.0, F1-score: 0\n",
      "-----Epoch 25-------\n",
      "Train metric in Epoch 25, Loss: 0.010309647768735886, Accuracy: 0.97, AUC: 0.5, Precision: 0.0, Recall: 0.0, F1-score: 0\n",
      "Test metric in Epoch 25, Loss: 0.042401883751153946, Accuracy: 0.97, AUC: 0.5, Precision: 0.0, Recall: 0.0, F1-score: 0\n",
      "-----Epoch 26-------\n",
      "Train metric in Epoch 26, Loss: 0.009958573617041111, Accuracy: 0.98, AUC: 0.5, Precision: 0.0, Recall: 0.0, F1-score: 0\n",
      "Test metric in Epoch 26, Loss: 0.04250925034284592, Accuracy: 0.97, AUC: 0.5, Precision: 0.0, Recall: 0.0, F1-score: 0\n",
      "-----Epoch 27-------\n",
      "Train metric in Epoch 27, Loss: 0.00828457996249199, Accuracy: 1.0, AUC: 0.5, Precision: 0.0, Recall: 0.0, F1-score: 0\n",
      "Test metric in Epoch 27, Loss: 0.04240371286869049, Accuracy: 0.97, AUC: 0.5, Precision: 0.0, Recall: 0.0, F1-score: 0\n",
      "-----Epoch 28-------\n",
      "Train metric in Epoch 28, Loss: 0.007924807257950306, Accuracy: 1.0, AUC: 0.5, Precision: 0.0, Recall: 0.0, F1-score: 0\n",
      "Test metric in Epoch 28, Loss: 0.04233479127287865, Accuracy: 0.97, AUC: 0.5, Precision: 0.0, Recall: 0.0, F1-score: 0\n",
      "-----Epoch 29-------\n",
      "Train metric in Epoch 29, Loss: 0.009846959263086319, Accuracy: 0.98, AUC: 0.5, Precision: 0.0, Recall: 0.0, F1-score: 0\n",
      "Test metric in Epoch 29, Loss: 0.042232710868120193, Accuracy: 0.97, AUC: 0.5, Precision: 0.0, Recall: 0.0, F1-score: 0\n",
      "-----Epoch 30-------\n",
      "Train metric in Epoch 30, Loss: 0.009463063441216946, Accuracy: 0.99, AUC: 0.75, Precision: 1.0, Recall: 0.5, F1-score: 0.67\n",
      "Test metric in Epoch 30, Loss: 0.04215503856539726, Accuracy: 0.97, AUC: 0.5, Precision: 0.0, Recall: 0.0, F1-score: 0\n"
     ]
    }
   ],
   "source": [
    "import torch.nn as nn\n",
    "from model import MultiModalModelWithAttention\n",
    "from train_and_evaluate import train_model\n",
    "import warnings\n",
    "from sklearn import exceptions\n",
    "\n",
    "# 忽略特定类型的警告\n",
    "warnings.filterwarnings(\"ignore\", category=exceptions.UndefinedMetricWarning)\n",
    "\n",
    "\n",
    "hidden_dim = 128  # LSTM隐藏层维度\n",
    "output_dim = 1  # 输出维度，二分类问题\n",
    "\n",
    "model = MultiModalModelWithAttention(hidden_dim, output_dim).to(device)\n",
    "optimizer = torch.optim.AdamW(model.parameters(), lr=0.00001)\n",
    "\n",
    "pos_weight = torch.tensor([20])  # 大于1的值，表示正类相对于负类的权重\n",
    "criterion = nn.BCEWithLogitsLoss(pos_weight=pos_weight).to(device)\n",
    "\n",
    "tensorboard_dir = 'tensorlog/not-skip-attention'\n",
    "# 训练模型\n",
    "train_model(model, train_loader, test_loader, optimizer, criterion, device, tensorboard_dir, epochs=30)"
   ]
  },
  {
   "cell_type": "code",
   "execution_count": null,
   "metadata": {},
   "outputs": [],
   "source": [
    "!tensorboard --logdir='tensorlog/all'"
   ]
  }
 ],
 "metadata": {
  "kernelspec": {
   "display_name": "base",
   "language": "python",
   "name": "python3"
  },
  "language_info": {
   "codemirror_mode": {
    "name": "ipython",
    "version": 3
   },
   "file_extension": ".py",
   "mimetype": "text/x-python",
   "name": "python",
   "nbconvert_exporter": "python",
   "pygments_lexer": "ipython3",
   "version": "3.8.10"
  }
 },
 "nbformat": 4,
 "nbformat_minor": 2
}
