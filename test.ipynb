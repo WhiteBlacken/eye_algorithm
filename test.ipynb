{
 "cells": [
  {
   "cell_type": "code",
   "execution_count": 1,
   "metadata": {},
   "outputs": [
    {
     "name": "stdout",
     "output_type": "stream",
     "text": [
      "[('is', 2), ('a', 2), ('to', 2), ('NLTK', 2), ('.', 2), ('This', 1), ('sample', 1), ('text', 1), ('demonstrate', 1), ('how', 1)]\n"
     ]
    }
   ],
   "source": [
    "\n",
    "import nltk\n",
    "from nltk import FreqDist\n",
    "from nltk.tokenize import word_tokenize\n",
    "\n",
    "# 示例文本\n",
    "text = \"This is a sample text to demonstrate how to calculate word familiarity using NLTK. NLTK is a powerful natural language processing library.\"\n",
    "\n",
    "# 分词\n",
    "words = word_tokenize(text)\n",
    "\n",
    "# 计算词频\n",
    "freq_dist = FreqDist(words)\n",
    "\n",
    "# 输出前10个最常见的单词及它们的频率\n",
    "print(freq_dist.most_common(10))"
   ]
  },
  {
   "cell_type": "code",
   "execution_count": 5,
   "metadata": {},
   "outputs": [
    {
     "name": "stdout",
     "output_type": "stream",
     "text": [
      "<FreqDist with 1 samples and 1 outcomes>\n",
      "0\n",
      "<FreqDist with 1 samples and 1 outcomes>\n",
      "0\n"
     ]
    }
   ],
   "source": [
    "import nltk\n",
    "from nltk import FreqDist\n",
    "\n",
    "def familliarity_score(word):\n",
    "    word = [word]\n",
    "    score = FreqDist(word)\n",
    "    print(score)\n",
    "    return score[0]\n",
    "\n",
    "print(familliarity_score('word'))\n",
    "print(familliarity_score('word;'))"
   ]
  },
  {
   "cell_type": "code",
   "execution_count": 11,
   "metadata": {},
   "outputs": [
    {
     "data": {
      "text/plain": [
       "[Synset('car.n.01'),\n",
       " Synset('car.n.02'),\n",
       " Synset('car.n.03'),\n",
       " Synset('car.n.04'),\n",
       " Synset('cable_car.n.01')]"
      ]
     },
     "execution_count": 11,
     "metadata": {},
     "output_type": "execute_result"
    }
   ],
   "source": [
    "import nltk\n",
    "\n",
    "# 下载WordNet\n",
    "# nltk.download('wordnet')\n",
    "\n",
    "\n",
    "# 访问WordNet\n",
    "from nltk.corpus import wordnet\n",
    "synonyms = wordnet.synsets('car')\n",
    "synonyms"
   ]
  },
  {
   "cell_type": "code",
   "execution_count": 16,
   "metadata": {},
   "outputs": [
    {
     "name": "stdout",
     "output_type": "stream",
     "text": [
      "0\n"
     ]
    }
   ],
   "source": [
    "import nltk\n",
    "from nltk.corpus import brown\n",
    "\n",
    "# 下载Brown语料库（如果尚未下载）\n",
    "# nltk.download('brown')\n",
    "\n",
    "# 获取Brown语料库中的所有单词\n",
    "brown_words = brown.words()\n",
    "\n",
    "# 要查询的词\n",
    "target_word = 'apple1'\n",
    "\n",
    "# 计算目标词在Brown语料库中的出现频率\n",
    "word_frequency = brown_words.count(target_word)\n",
    "\n",
    "print(word_frequency)\n",
    "\n",
    "# print(f\"The word '{target_word}' appears {word_frequency} times in the Brown corpus.\")\n"
   ]
  }
 ],
 "metadata": {
  "kernelspec": {
   "display_name": "base",
   "language": "python",
   "name": "python3"
  },
  "language_info": {
   "codemirror_mode": {
    "name": "ipython",
    "version": 3
   },
   "file_extension": ".py",
   "mimetype": "text/x-python",
   "name": "python",
   "nbconvert_exporter": "python",
   "pygments_lexer": "ipython3",
   "version": "3.8.10"
  }
 },
 "nbformat": 4,
 "nbformat_minor": 2
}
