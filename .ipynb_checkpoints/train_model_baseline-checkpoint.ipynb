{
 "cells": [
  {
   "cell_type": "code",
   "execution_count": 1,
   "metadata": {},
   "outputs": [],
   "source": [
    "%load_ext autoreload\n",
    "%autoreload 2"
   ]
  },
  {
   "cell_type": "code",
   "execution_count": 2,
   "metadata": {},
   "outputs": [
    {
     "name": "stdout",
     "output_type": "stream",
     "text": [
      "Using device: cuda\n"
     ]
    }
   ],
   "source": [
    "import torch\n",
    "device = torch.device(\"cuda\" if torch.cuda.is_available() else \"cpu\")\n",
    "print(f\"Using device: {device}\")"
   ]
  },
  {
   "cell_type": "code",
   "execution_count": 6,
   "metadata": {},
   "outputs": [],
   "source": [
    "from torch.utils.data import random_split\n",
    "from torch.utils.data import DataLoader\n",
    "from data_process import TextEyeTrackingDataset\n",
    "import numpy as np\n",
    "\n",
    "# torch.manual_seed(seed)\n",
    "# np.random.seed(seed)\n",
    "\n",
    "# 加载数据\n",
    "dataset = TextEyeTrackingDataset('data/skip_data.csv')\n",
    "batch_size = 1\n",
    "\n",
    "# 假设dataset是你已经加载的完整数据集\n",
    "train_size = int(len(dataset) * 0.8)  # 以80%的数据作为训练集\n",
    "test_size = len(dataset) - train_size  # 剩余20%的数据作为测试集\n",
    "train_dataset, test_dataset = random_split(dataset, [train_size, test_size])\n",
    "\n",
    "train_loader = DataLoader(train_dataset, batch_size=batch_size, shuffle=True)\n",
    "test_loader = DataLoader(test_dataset, batch_size=batch_size, shuffle=False)"
   ]
  },
  {
   "cell_type": "code",
   "execution_count": null,
   "metadata": {},
   "outputs": [
    {
     "name": "stdout",
     "output_type": "stream",
     "text": [
      "-----Epoch 1-------\n",
      "Train metric in Epoch 1, Loss: 0.014349047094583511, Accuracy: 0.29, AUC: 0.35, Precision: 0.01, Recall: 0.4, F1-score: 0.02\n",
      "Test metric in Epoch 1, Loss: 0.05948367714881897, Accuracy: 0.31, AUC: 0.48, Precision: 0.02, Recall: 0.67, F1-score: 0.04\n",
      "-----Epoch 2-------\n",
      "Train metric in Epoch 2, Loss: 0.0123688243329525, Accuracy: 0.5, AUC: 0.5, Precision: 0.01, Recall: 0.5, F1-score: 0.02\n",
      "Test metric in Epoch 2, Loss: 0.05950469151139259, Accuracy: 0.31, AUC: 0.56, Precision: 0.02, Recall: 0.83, F1-score: 0.04\n",
      "-----Epoch 3-------\n",
      "Train metric in Epoch 3, Loss: 0.01800266094505787, Accuracy: 0.32, AUC: 0.59, Precision: 0.04, Recall: 0.88, F1-score: 0.08\n",
      "Test metric in Epoch 3, Loss: 0.05952483043074608, Accuracy: 0.28, AUC: 0.55, Precision: 0.02, Recall: 0.83, F1-score: 0.04\n",
      "-----Epoch 4-------\n",
      "Train metric in Epoch 4, Loss: 0.016596635803580284, Accuracy: 0.27, AUC: 0.28, Precision: 0.01, Recall: 0.29, F1-score: 0.02\n",
      "Test metric in Epoch 4, Loss: 0.05953853577375412, Accuracy: 0.27, AUC: 0.55, Precision: 0.02, Recall: 0.83, F1-score: 0.04\n",
      "-----Epoch 5-------\n",
      "Train metric in Epoch 5, Loss: 0.013157553970813751, Accuracy: 0.29, AUC: 0.47, Precision: 0.01, Recall: 0.67, F1-score: 0.02\n",
      "Test metric in Epoch 5, Loss: 0.059554845094680786, Accuracy: 0.26, AUC: 0.54, Precision: 0.02, Recall: 0.83, F1-score: 0.04\n",
      "-----Epoch 6-------\n",
      "Train metric in Epoch 6, Loss: 0.0175569299608469, Accuracy: 0.29, AUC: 0.39, Precision: 0.02, Recall: 0.5, F1-score: 0.04\n",
      "Test metric in Epoch 6, Loss: 0.05957251042127609, Accuracy: 0.23, AUC: 0.53, Precision: 0.02, Recall: 0.83, F1-score: 0.04\n",
      "-----Epoch 7-------\n",
      "Train metric in Epoch 7, Loss: 0.032331373542547226, Accuracy: 0.77, AUC: 0.42, Precision: 0.0, Recall: 0.0, F1-score: 0\n",
      "Test metric in Epoch 7, Loss: 0.05958640202879906, Accuracy: 0.22, AUC: 0.52, Precision: 0.02, Recall: 0.83, F1-score: 0.04\n",
      "-----Epoch 8-------\n",
      "Train metric in Epoch 8, Loss: 0.017002912238240242, Accuracy: 0.22, AUC: 0.46, Precision: 0.02, Recall: 0.71, F1-score: 0.04\n",
      "Test metric in Epoch 8, Loss: 0.05960610508918762, Accuracy: 0.21, AUC: 0.52, Precision: 0.02, Recall: 0.83, F1-score: 0.04\n",
      "-----Epoch 9-------\n",
      "Train metric in Epoch 9, Loss: 0.010831580497324467, Accuracy: 0.23, AUC: 0.61, Precision: 0.01, Recall: 1.0, F1-score: 0.02\n",
      "Test metric in Epoch 9, Loss: 0.05961841717362404, Accuracy: 0.19, AUC: 0.51, Precision: 0.02, Recall: 0.83, F1-score: 0.04\n"
     ]
    }
   ],
   "source": [
    "import torch.nn as nn\n",
    "from model import MultiModalModel\n",
    "from train_and_evaluate import train_model\n",
    "import warnings\n",
    "from sklearn import exceptions\n",
    "\n",
    "# 忽略特定类型的警告\n",
    "warnings.filterwarnings(\"ignore\", category=exceptions.UndefinedMetricWarning)\n",
    "\n",
    "\n",
    "hidden_dim = 128  # LSTM隐藏层维度\n",
    "output_dim = 1  # 输出维度，二分类问题\n",
    "learning_rate = 0.00001\n",
    "\n",
    "model = MultiModalModel(hidden_dim, output_dim).to(device)\n",
    "# optimizer = torch.optim.AdamW(model.parameters(), lr=learning_rate)\n",
    "optimizer = torch.optim.AdamW(filter(lambda p: p.requires_grad, model.parameters()), lr=learning_rate)\n",
    "\n",
    "pos_weight = torch.tensor([60])  # 大于1的值，表示正类相对于负类的权重\n",
    "criterion = nn.BCEWithLogitsLoss(pos_weight=pos_weight).to(device)\n",
    "\n",
    "tensorboard_dir = 'tensorlog/all'\n",
    "# 训练模型\n",
    "train_model(model, train_loader, test_loader, optimizer, criterion, device, tensorboard_dir, epochs=50)"
   ]
  },
  {
   "cell_type": "code",
   "execution_count": null,
   "metadata": {},
   "outputs": [],
   "source": [
    "!tensorboard --logdir='tensorlog/all'"
   ]
  }
 ],
 "metadata": {
  "kernelspec": {
   "display_name": "Python 3 (ipykernel)",
   "language": "python",
   "name": "python3"
  },
  "language_info": {
   "codemirror_mode": {
    "name": "ipython",
    "version": 3
   },
   "file_extension": ".py",
   "mimetype": "text/x-python",
   "name": "python",
   "nbconvert_exporter": "python",
   "pygments_lexer": "ipython3",
   "version": "3.11.8"
  }
 },
 "nbformat": 4,
 "nbformat_minor": 4
}
