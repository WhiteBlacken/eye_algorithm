{
 "cells": [
  {
   "cell_type": "code",
   "execution_count": 5,
   "id": "eda63212-fa52-42d7-8533-363bfc816593",
   "metadata": {},
   "outputs": [],
   "source": [
    "%load_ext autoreload\n",
    "%autoreload 2"
   ]
  },
  {
   "cell_type": "code",
   "execution_count": 7,
   "id": "fe488a10-a185-4c09-98cd-9915f96252f4",
   "metadata": {},
   "outputs": [
    {
     "name": "stdout",
     "output_type": "stream",
     "text": [
      "Number of trainable parameters for MultiModalModel: 110011905\n",
      "Number of trainable parameters for MultiModalModelWithAttention: 110111235\n"
     ]
    }
   ],
   "source": [
    "import torch\n",
    "from model import MultiModalModelWithAttention, MultiModalModel\n",
    "\n",
    "def count_parameters(model):\n",
    "    return sum(p.numel() for p in model.parameters() if p.requires_grad)\n",
    "\n",
    "hidden_dim = 128  # LSTM隐藏层维度\n",
    "output_dim = 1  # 输出维度，二分类问题\n",
    "\n",
    "model = MultiModalModel(hidden_dim, output_dim)\n",
    "num_params = count_parameters(model)\n",
    "print(f\"Number of trainable parameters for MultiModalModel: {num_params}\")\n",
    "\n",
    "model = MultiModalModelWithAttention(hidden_dim, output_dim, show_dimension=False)\n",
    "num_params = count_parameters(model)\n",
    "print(f\"Number of trainable parameters for MultiModalModelWithAttention: {num_params}\")\n"
   ]
  }
 ],
 "metadata": {
  "kernelspec": {
   "display_name": "Python 3 (ipykernel)",
   "language": "python",
   "name": "python3"
  },
  "language_info": {
   "codemirror_mode": {
    "name": "ipython",
    "version": 3
   },
   "file_extension": ".py",
   "mimetype": "text/x-python",
   "name": "python",
   "nbconvert_exporter": "python",
   "pygments_lexer": "ipython3",
   "version": "3.11.8"
  }
 },
 "nbformat": 4,
 "nbformat_minor": 5
}
