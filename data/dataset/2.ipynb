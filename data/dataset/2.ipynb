{
 "cells": [
  {
   "cell_type": "code",
   "execution_count": 2,
   "metadata": {
    "collapsed": true
   },
   "outputs": [],
   "source": [
    "import pandas as pd"
   ]
  },
  {
   "cell_type": "code",
   "execution_count": 3,
   "outputs": [
    {
     "data": {
      "text/plain": "       exp_id  article_id  time  page_id        user  sentence_id  \\\n331       590          15     0     1236  wangchenyu            0   \n332       590          15     0     1236  wangchenyu            0   \n333       590          15     0     1236  wangchenyu            0   \n334       590          15     0     1236  wangchenyu            0   \n335       590          15     0     1236  wangchenyu            0   \n...       ...         ...   ...      ...         ...          ...   \n33221    1867          15     0     2751         bxy            2   \n33222    1867          15     0     2751         bxy            2   \n33223    1867          15     0     2751         bxy            2   \n33224    1867          15     0     2751         bxy            2   \n33225    1867          15     0     2751         bxy            2   \n\n               word  need_prediction  word_understand  sentence_understand  \\\n331        Canada's                1                1                    1   \n332       emergency                1                1                    1   \n333    preparedness                1                0                    1   \n334        minister                0                1                    1   \n335            Bill                0                1                    1   \n...             ...              ...              ...                  ...   \n33221        enough                0                1                    1   \n33222            to                0                1                    1   \n33223       deflect                0                1                    1   \n33224           its                0                1                    1   \n33225          path                0                1                    1   \n\n       mind_wandering  reading_times  number_of_fixations  fixation_duration  \\\n331                 1              4                    8               3334   \n332                 1              3                    3                940   \n333                 1              3                    5               1676   \n334                 1              0                    0                  0   \n335                 1              0                    0                  0   \n...               ...            ...                  ...                ...   \n33221               1              0                    0                  0   \n33222               1              0                    0                  0   \n33223               1              0                    0                  0   \n33224               1              0                    0                  0   \n33225               1              0                    0                  0   \n\n       fixation_duration_div_syllable  fixation_duration_div_length  \\\n331                       3334.000000                    416.750000   \n332                        313.333333                    104.444444   \n333                        558.666667                    139.666667   \n334                          0.000000                      0.000000   \n335                          0.000000                      0.000000   \n...                               ...                           ...   \n33221                        0.000000                      0.000000   \n33222                        0.000000                      0.000000   \n33223                        0.000000                      0.000000   \n33224                        0.000000                      0.000000   \n33225                        0.000000                      0.000000   \n\n       fixation_duration_diff  number_of_fixations_diff  reading_times_diff  \n331                         0                         0                   0  \n332                     -2394                        -5                  -1  \n333                       736                         2                   0  \n334                     -1676                        -5                  -3  \n335                         0                         0                   0  \n...                       ...                       ...                 ...  \n33221                       0                         0                   0  \n33222                       0                         0                   0  \n33223                       0                         0                   0  \n33224                       0                         0                   0  \n33225                       0                         0                   0  \n\n[1232 rows x 19 columns]",
      "text/html": "<div>\n<style scoped>\n    .dataframe tbody tr th:only-of-type {\n        vertical-align: middle;\n    }\n\n    .dataframe tbody tr th {\n        vertical-align: top;\n    }\n\n    .dataframe thead th {\n        text-align: right;\n    }\n</style>\n<table border=\"1\" class=\"dataframe\">\n  <thead>\n    <tr style=\"text-align: right;\">\n      <th></th>\n      <th>exp_id</th>\n      <th>article_id</th>\n      <th>time</th>\n      <th>page_id</th>\n      <th>user</th>\n      <th>sentence_id</th>\n      <th>word</th>\n      <th>need_prediction</th>\n      <th>word_understand</th>\n      <th>sentence_understand</th>\n      <th>mind_wandering</th>\n      <th>reading_times</th>\n      <th>number_of_fixations</th>\n      <th>fixation_duration</th>\n      <th>fixation_duration_div_syllable</th>\n      <th>fixation_duration_div_length</th>\n      <th>fixation_duration_diff</th>\n      <th>number_of_fixations_diff</th>\n      <th>reading_times_diff</th>\n    </tr>\n  </thead>\n  <tbody>\n    <tr>\n      <th>331</th>\n      <td>590</td>\n      <td>15</td>\n      <td>0</td>\n      <td>1236</td>\n      <td>wangchenyu</td>\n      <td>0</td>\n      <td>Canada's</td>\n      <td>1</td>\n      <td>1</td>\n      <td>1</td>\n      <td>1</td>\n      <td>4</td>\n      <td>8</td>\n      <td>3334</td>\n      <td>3334.000000</td>\n      <td>416.750000</td>\n      <td>0</td>\n      <td>0</td>\n      <td>0</td>\n    </tr>\n    <tr>\n      <th>332</th>\n      <td>590</td>\n      <td>15</td>\n      <td>0</td>\n      <td>1236</td>\n      <td>wangchenyu</td>\n      <td>0</td>\n      <td>emergency</td>\n      <td>1</td>\n      <td>1</td>\n      <td>1</td>\n      <td>1</td>\n      <td>3</td>\n      <td>3</td>\n      <td>940</td>\n      <td>313.333333</td>\n      <td>104.444444</td>\n      <td>-2394</td>\n      <td>-5</td>\n      <td>-1</td>\n    </tr>\n    <tr>\n      <th>333</th>\n      <td>590</td>\n      <td>15</td>\n      <td>0</td>\n      <td>1236</td>\n      <td>wangchenyu</td>\n      <td>0</td>\n      <td>preparedness</td>\n      <td>1</td>\n      <td>0</td>\n      <td>1</td>\n      <td>1</td>\n      <td>3</td>\n      <td>5</td>\n      <td>1676</td>\n      <td>558.666667</td>\n      <td>139.666667</td>\n      <td>736</td>\n      <td>2</td>\n      <td>0</td>\n    </tr>\n    <tr>\n      <th>334</th>\n      <td>590</td>\n      <td>15</td>\n      <td>0</td>\n      <td>1236</td>\n      <td>wangchenyu</td>\n      <td>0</td>\n      <td>minister</td>\n      <td>0</td>\n      <td>1</td>\n      <td>1</td>\n      <td>1</td>\n      <td>0</td>\n      <td>0</td>\n      <td>0</td>\n      <td>0.000000</td>\n      <td>0.000000</td>\n      <td>-1676</td>\n      <td>-5</td>\n      <td>-3</td>\n    </tr>\n    <tr>\n      <th>335</th>\n      <td>590</td>\n      <td>15</td>\n      <td>0</td>\n      <td>1236</td>\n      <td>wangchenyu</td>\n      <td>0</td>\n      <td>Bill</td>\n      <td>0</td>\n      <td>1</td>\n      <td>1</td>\n      <td>1</td>\n      <td>0</td>\n      <td>0</td>\n      <td>0</td>\n      <td>0.000000</td>\n      <td>0.000000</td>\n      <td>0</td>\n      <td>0</td>\n      <td>0</td>\n    </tr>\n    <tr>\n      <th>...</th>\n      <td>...</td>\n      <td>...</td>\n      <td>...</td>\n      <td>...</td>\n      <td>...</td>\n      <td>...</td>\n      <td>...</td>\n      <td>...</td>\n      <td>...</td>\n      <td>...</td>\n      <td>...</td>\n      <td>...</td>\n      <td>...</td>\n      <td>...</td>\n      <td>...</td>\n      <td>...</td>\n      <td>...</td>\n      <td>...</td>\n      <td>...</td>\n    </tr>\n    <tr>\n      <th>33221</th>\n      <td>1867</td>\n      <td>15</td>\n      <td>0</td>\n      <td>2751</td>\n      <td>bxy</td>\n      <td>2</td>\n      <td>enough</td>\n      <td>0</td>\n      <td>1</td>\n      <td>1</td>\n      <td>1</td>\n      <td>0</td>\n      <td>0</td>\n      <td>0</td>\n      <td>0.000000</td>\n      <td>0.000000</td>\n      <td>0</td>\n      <td>0</td>\n      <td>0</td>\n    </tr>\n    <tr>\n      <th>33222</th>\n      <td>1867</td>\n      <td>15</td>\n      <td>0</td>\n      <td>2751</td>\n      <td>bxy</td>\n      <td>2</td>\n      <td>to</td>\n      <td>0</td>\n      <td>1</td>\n      <td>1</td>\n      <td>1</td>\n      <td>0</td>\n      <td>0</td>\n      <td>0</td>\n      <td>0.000000</td>\n      <td>0.000000</td>\n      <td>0</td>\n      <td>0</td>\n      <td>0</td>\n    </tr>\n    <tr>\n      <th>33223</th>\n      <td>1867</td>\n      <td>15</td>\n      <td>0</td>\n      <td>2751</td>\n      <td>bxy</td>\n      <td>2</td>\n      <td>deflect</td>\n      <td>0</td>\n      <td>1</td>\n      <td>1</td>\n      <td>1</td>\n      <td>0</td>\n      <td>0</td>\n      <td>0</td>\n      <td>0.000000</td>\n      <td>0.000000</td>\n      <td>0</td>\n      <td>0</td>\n      <td>0</td>\n    </tr>\n    <tr>\n      <th>33224</th>\n      <td>1867</td>\n      <td>15</td>\n      <td>0</td>\n      <td>2751</td>\n      <td>bxy</td>\n      <td>2</td>\n      <td>its</td>\n      <td>0</td>\n      <td>1</td>\n      <td>1</td>\n      <td>1</td>\n      <td>0</td>\n      <td>0</td>\n      <td>0</td>\n      <td>0.000000</td>\n      <td>0.000000</td>\n      <td>0</td>\n      <td>0</td>\n      <td>0</td>\n    </tr>\n    <tr>\n      <th>33225</th>\n      <td>1867</td>\n      <td>15</td>\n      <td>0</td>\n      <td>2751</td>\n      <td>bxy</td>\n      <td>2</td>\n      <td>path</td>\n      <td>0</td>\n      <td>1</td>\n      <td>1</td>\n      <td>1</td>\n      <td>0</td>\n      <td>0</td>\n      <td>0</td>\n      <td>0.000000</td>\n      <td>0.000000</td>\n      <td>0</td>\n      <td>0</td>\n      <td>0</td>\n    </tr>\n  </tbody>\n</table>\n<p>1232 rows × 19 columns</p>\n</div>"
     },
     "execution_count": 3,
     "metadata": {},
     "output_type": "execute_result"
    }
   ],
   "source": [
    "native_word = pd.read_csv('20230506/all-word-feature-20230506-103.csv')\n",
    "\n",
    "native_word[native_word['article_id'] == 15]\n",
    "# exp_num = native_word['exp_id'].nunique()\n",
    "# word_label = (native_word['word_understand'] == 0).sum()\n",
    "#\n",
    "# native_sentence = pd.read_csv('20230506/all-sent-feature-20230506-103.csv')\n",
    "# sent_label = (native_sentence['sentence_understand'] == 0).sum()\n",
    "# mind_label = (native_sentence['mind_wandering'] == 0).sum()\n",
    "# print(f\"native reader标签数：单词不懂：{word_label}，句子不懂：{sent_label}，走神：{mind_label}\")"
   ],
   "metadata": {
    "collapsed": false
   }
  },
  {
   "cell_type": "code",
   "execution_count": 6,
   "outputs": [
    {
     "name": "stdout",
     "output_type": "stream",
     "text": [
      "native reader标签数：单词不懂：130，句子不懂：44，走神：36\n"
     ]
    }
   ],
   "source": [
    "native_word = pd.read_csv('20230505/all-word-feature-20230505-22.csv')\n",
    "exp_num = native_word['exp_id'].nunique()\n",
    "word_label = (native_word['word_understand'] == 0).sum()\n",
    "\n",
    "native_sentence = pd.read_csv('20230505/all-sent-feature-20230505-22.csv')\n",
    "sent_label = (native_sentence['sentence_understand'] == 0).sum()\n",
    "mind_label = (native_sentence['mind_wandering'] == 0).sum()\n",
    "print(f\"native reader标签数：单词不懂：{word_label}，句子不懂：{sent_label}，走神：{mind_label}\")"
   ],
   "metadata": {
    "collapsed": false
   }
  },
  {
   "cell_type": "code",
   "execution_count": 8,
   "outputs": [
    {
     "name": "stdout",
     "output_type": "stream",
     "text": [
      "non-native reader的每篇标签数：单词不懂：8.495145631067961，句子不懂：1.941747572815534，走神：1.5922330097087378\n"
     ]
    }
   ],
   "source": [
    "native_word = pd.read_csv('20230414/all-word-20230414-103.csv')\n",
    "exp_num = native_word['exp_id'].nunique()\n",
    "word_label = (native_word['word_understand'] == 0).sum()\n",
    "\n",
    "native_sentence = pd.read_csv('20230414/all-sent-20230414-103.csv')\n",
    "sent_label = (native_sentence['sentence_understand'] == 0).sum()\n",
    "mind_label = (native_sentence['mind_wandering'] == 0).sum()\n",
    "print(\n",
    "    f\"non-native reader的每篇标签数：单词不懂：{word_label / exp_num}，句子不懂：{sent_label / exp_num}，走神：{mind_label / exp_num}\")"
   ],
   "metadata": {
    "collapsed": false
   }
  },
  {
   "cell_type": "code",
   "execution_count": 1,
   "outputs": [
    {
     "name": "stdout",
     "output_type": "stream",
     "text": [
      "平均阅读时长：161.0909090909091\n"
     ]
    }
   ],
   "source": [
    "import pandas as pd\n",
    "\n",
    "exp_dict = {}\n",
    "data = pd.read_csv('20230505/word-20230505-22.csv')\n",
    "for index, row in data.iterrows():\n",
    "    time = row['time']\n",
    "    exp_id = row['exp_id']\n",
    "    exp_dict[exp_id] = max(exp_dict.get(exp_id, 0), time)\n",
    "\n",
    "res = 0\n",
    "for key in exp_dict:\n",
    "    res += exp_dict[key] + 1\n",
    "\n",
    "print(f\"平均阅读时长：{res * 8 / len(exp_dict)}\")"
   ],
   "metadata": {
    "collapsed": false
   }
  },
  {
   "cell_type": "code",
   "execution_count": 2,
   "outputs": [
    {
     "name": "stdout",
     "output_type": "stream",
     "text": [
      "平均阅读时长：234.5631067961165\n"
     ]
    }
   ],
   "source": [
    "import pandas as pd\n",
    "\n",
    "exp_dict = {}\n",
    "data = pd.read_csv('20230414/word-20230414-103.csv')\n",
    "for index, row in data.iterrows():\n",
    "    time = row['time']\n",
    "    exp_id = row['exp_id']\n",
    "    exp_dict[exp_id] = max(exp_dict.get(exp_id, 0), time)\n",
    "\n",
    "res = 0\n",
    "for key in exp_dict:\n",
    "    res += exp_dict[key] + 1\n",
    "\n",
    "print(f\"平均阅读时长：{res * 8 / len(exp_dict)}\")"
   ],
   "metadata": {
    "collapsed": false
   }
  },
  {
   "cell_type": "code",
   "execution_count": null,
   "outputs": [],
   "source": [],
   "metadata": {
    "collapsed": false
   }
  },
  {
   "cell_type": "code",
   "execution_count": 15,
   "outputs": [
    {
     "name": "stdout",
     "output_type": "stream",
     "text": [
      "20\n"
     ]
    }
   ],
   "source": [
    "import pandas as pd\n",
    "\n",
    "exp_dict = {}\n",
    "data = pd.read_csv('20230505/all-sent-20230505-22.csv')\n",
    "\n",
    "dict = {}\n",
    "for index, row in data.iterrows():\n",
    "    if row['sentence_understand'] == 0 or row['mind_wandering'] == 0:\n",
    "        dict[row['exp_id']] = 1\n",
    "\n",
    "res = 0\n",
    "for key in dict:\n",
    "    res += dict[key]\n",
    "print(res)\n",
    "\n",
    "# 103-94\n",
    "\n",
    "# len(data[(data['sentence_understand']==0)|(data['mind_wandering']==0)])"
   ],
   "metadata": {
    "collapsed": false
   }
  },
  {
   "cell_type": "code",
   "execution_count": 11,
   "outputs": [
    {
     "name": "stdout",
     "output_type": "stream",
     "text": [
      "9\n"
     ]
    }
   ],
   "source": [
    "import pandas as pd\n",
    "\n",
    "exp_dict = {}\n",
    "df = pd.read_csv('20230505/all-sent-20230505-22.csv')\n",
    "# df = pd.read_csv('20230414/all-sent-20230414-103.csv')\n",
    "\n",
    "count = 1\n",
    "for i in range(len(df) - 3):\n",
    "    if df['sentence_understand'][i] == 0 or df['mind_wandering'][i] == 0:\n",
    "        if df['sentence_understand'][i + 1] == 0 or df['mind_wandering'][i + 1] == 0:\n",
    "            if df['sentence_understand'][i + 2] == 0 or df['mind_wandering'][i + 2] == 0:\n",
    "                if df['sentence_understand'][i + 3] == 0 or df['mind_wandering'][i + 3] == 0:\n",
    "                    count += 4\n",
    "print(count)\n"
   ],
   "metadata": {
    "collapsed": false
   }
  },
  {
   "cell_type": "code",
   "execution_count": 14,
   "outputs": [
    {
     "data": {
      "text/plain": "0.12"
     },
     "execution_count": 14,
     "metadata": {},
     "output_type": "execute_result"
    }
   ],
   "source": [
    "# native\n",
    "9 / 75"
   ],
   "metadata": {
    "collapsed": false
   }
  },
  {
   "cell_type": "code",
   "execution_count": 15,
   "outputs": [
    {
     "data": {
      "text/plain": "0.09482758620689655"
     },
     "execution_count": 15,
     "metadata": {},
     "output_type": "execute_result"
    }
   ],
   "source": [
    "# nonnative\n",
    "33 / 348"
   ],
   "metadata": {
    "collapsed": false
   }
  },
  {
   "cell_type": "code",
   "execution_count": 23,
   "outputs": [
    {
     "data": {
      "text/plain": "1.8"
     },
     "execution_count": 23,
     "metadata": {},
     "output_type": "execute_result"
    }
   ],
   "source": [
    "9 / 5"
   ],
   "metadata": {
    "collapsed": false
   }
  },
  {
   "cell_type": "code",
   "execution_count": 24,
   "outputs": [
    {
     "data": {
      "text/plain": "1.65"
     },
     "execution_count": 24,
     "metadata": {},
     "output_type": "execute_result"
    }
   ],
   "source": [
    "33 / 20"
   ],
   "metadata": {
    "collapsed": false
   }
  },
  {
   "cell_type": "code",
   "execution_count": 18,
   "outputs": [
    {
     "name": "stdout",
     "output_type": "stream",
     "text": [
      "20\n"
     ]
    }
   ],
   "source": [
    "import pandas as pd\n",
    "\n",
    "exp_dict = {}\n",
    "# df = pd.read_csv('20230505/all-sent-20230505-22.csv')\n",
    "df = pd.read_csv('20230414/all-sent-20230414-103.csv')\n",
    "\n",
    "count = 1\n",
    "user_list = []\n",
    "for index, row in df.iterrows():\n",
    "    if row['user'] not in user_list:\n",
    "        user_list.append(row['user'])\n",
    "print(len(user_list))"
   ],
   "metadata": {
    "collapsed": false
   }
  },
  {
   "cell_type": "code",
   "execution_count": 2,
   "outputs": [],
   "source": [
    "import pandas as pd\n",
    "\n",
    "df = pd.read_csv('20230505/all-sent-20230505-22.csv')"
   ],
   "metadata": {
    "collapsed": false
   }
  },
  {
   "cell_type": "code",
   "execution_count": 5,
   "outputs": [
    {
     "data": {
      "text/plain": "[1890, 1901]"
     },
     "execution_count": 5,
     "metadata": {},
     "output_type": "execute_result"
    }
   ],
   "source": [
    "# article 9\n",
    "exp_list = []\n",
    "data = df[df['article_id'] == 9]\n",
    "for index, row in data.iterrows():\n",
    "    if row['exp_id'] not in exp_list:\n",
    "        exp_list.append(row['exp_id'])\n",
    "exp_list"
   ],
   "metadata": {
    "collapsed": false
   }
  },
  {
   "cell_type": "code",
   "execution_count": 13,
   "outputs": [
    {
     "name": "stdout",
     "output_type": "stream",
     "text": [
      "running-16,[1889, 1897]\n",
      "rings-16,[1889, 1897]\n",
      "a-16,[1889, 1897]\n",
      "carpet-16,[1889, 1897]\n",
      "by-16,[1889, 1897]\n",
      "area-16,[1889, 1897]\n",
      "chapter-heading-26,[1892, 1924]\n",
      "reductionism-26,[1892, 1924]\n",
      "intentionality-26,[1892, 1924]\n",
      "joker-26,[1892, 1902]\n",
      "in-26,[1892, 1902]\n",
      "the-26,[1892, 1902]\n",
      "pack-26,[1892, 1902]\n",
      "“antirealism”-47,[1896, 1903]\n",
      "realism”)-47,[1896, 1925]\n",
      "“metaphysical-47,[1896, 1921, 1925]\n",
      "realism”-47,[1896, 1921, 1925]\n",
      "Being-47,[1896, 1909]\n",
      "metaphysical-47,[1896, 1909]\n",
      "Bivalence-47,[1903, 1909, 1925]\n",
      "safeguards-24,[1908, 1919]\n",
      "realism-47,[1909, 1925]\n",
      "Correspondence-47,[1921, 1925]\n"
     ]
    }
   ],
   "source": [
    "# 同一个单词不懂的不同表现：\n",
    "dict = {}\n",
    "df = pd.read_csv('20230505/all-word-20230505-22.csv')\n",
    "data = df[df['word_understand'] == 0]\n",
    "for index, row in data.iterrows():\n",
    "    key = f\"{row['word']}-{row['article_id']}\"\n",
    "    if key in dict:\n",
    "        if row['exp_id'] not in dict[key]:\n",
    "            dict[key].append(row['exp_id'])\n",
    "    else:\n",
    "        dict[key] = [row['exp_id']]\n",
    "for key in dict:\n",
    "    if len(dict[key]) >= 2:\n",
    "        print(f\"{key},{dict[key]}\")"
   ],
   "metadata": {
    "collapsed": false
   }
  },
  {
   "cell_type": "code",
   "execution_count": 2,
   "outputs": [
    {
     "name": "stdout",
     "output_type": "stream",
     "text": [
      "32\n"
     ]
    }
   ],
   "source": [
    "import pandas as pd\n",
    "\n",
    "articles = []\n",
    "dat = pd.read_csv('20230414/all-sent-20230414-103.csv')\n",
    "for index, row in dat.iterrows():\n",
    "    if row['article_id'] not in articles:\n",
    "        articles.append(row['article_id'])\n",
    "dat = pd.read_csv('20230505/all-word-20230505-22.csv')\n",
    "for index, row in dat.iterrows():\n",
    "    if row['article_id'] not in articles:\n",
    "        articles.append(row['article_id'])\n",
    "print(len(articles))"
   ],
   "metadata": {
    "collapsed": false
   }
  },
  {
   "cell_type": "code",
   "execution_count": 3,
   "outputs": [
    {
     "data": {
      "text/plain": "(13, 23.923076923076923, 1.5913969896597846)"
     },
     "execution_count": 3,
     "metadata": {},
     "output_type": "execute_result"
    }
   ],
   "source": [
    "import numpy as np\n",
    "\n",
    "ages = [23, 24, 26, 23, 25, 23, 22, 23, 28, 24, 24, 22, 24]\n",
    "len(ages), np.mean(np.array(ages)), np.std(np.array(ages))\n"
   ],
   "metadata": {
    "collapsed": false
   }
  },
  {
   "cell_type": "code",
   "execution_count": 4,
   "outputs": [
    {
     "data": {
      "text/plain": "0.3076923076923077"
     },
     "execution_count": 4,
     "metadata": {},
     "output_type": "execute_result"
    }
   ],
   "source": [
    "4 / 13"
   ],
   "metadata": {
    "collapsed": false
   }
  },
  {
   "cell_type": "code",
   "execution_count": 6,
   "outputs": [
    {
     "data": {
      "text/plain": "             exp_id    article_id          time       page_id  sentence_id  \\\ncount  85478.000000  85478.000000  85478.000000  85478.000000  85478.00000   \nmean    1413.244262     27.324469     15.443915   2225.021456      4.54476   \nstd      441.710703     14.862575     12.470388    515.453413      3.51993   \nmin      506.000000      1.000000      0.000000   1078.000000      0.00000   \n25%     1049.000000     15.000000      6.000000   1785.000000      2.00000   \n50%     1198.000000     27.000000     13.000000   2045.000000      4.00000   \n75%     1856.000000     41.000000     22.000000   2729.000000      7.00000   \nmax     2059.000000     60.000000     77.000000   2853.000000     19.00000   \n\n       need_prediction  sentence_understand  mind_wandering  \\\ncount          85478.0         85478.000000    85478.000000   \nmean               0.0             0.878565        0.898769   \nstd                0.0             0.326634        0.301636   \nmin                0.0             0.000000        0.000000   \n25%                0.0             1.000000        1.000000   \n50%                0.0             1.000000        1.000000   \n75%                0.0             1.000000        1.000000   \nmax                0.0             1.000000        1.000000   \n\n       total_dwell_time_of_sentence  saccade_times_of_sentence  ...  \\\ncount                  85478.000000               85478.000000  ...   \nmean                    4448.287325                   9.110824  ...   \nstd                     7651.512771                  15.044595  ...   \nmin                        0.000000                   0.000000  ...   \n25%                        0.000000                   0.000000  ...   \n50%                      493.000000                   1.000000  ...   \n75%                     6206.000000                  13.000000  ...   \nmax                    85666.000000                 178.000000  ...   \n\n       saccade_velocity_div_syllable  saccade_duration_div_syllable  \\\ncount                   85478.000000                   85478.000000   \nmean                        0.008514                    -163.006800   \nstd                         0.022715                    1158.996540   \nmin                        -0.059366                  -18891.571429   \n25%                         0.000000                       0.000000   \n50%                         0.000000                       0.000000   \n75%                         0.000033                      93.821429   \nmax                         0.430705                    2049.666667   \n\n       total_dwell_time_of_sentence_div_log  \\\ncount                          85478.000000   \nmean                             130.964078   \nstd                              187.658527   \nmin                                0.000000   \n25%                                0.000000   \n50%                               20.426226   \n75%                              222.028574   \nmax                             1859.630391   \n\n       saccade_times_of_sentence_div_log  forward_times_of_sentence_div_log  \\\ncount                       85478.000000                       85478.000000   \nmean                            0.266024                           0.216303   \nstd                             0.355527                           0.268615   \nmin                             0.000000                           0.000000   \n25%                             0.000000                           0.000000   \n50%                             0.055877                           0.048639   \n75%                             0.463524                           0.401709   \nmax                             3.853600                           2.438987   \n\n       backward_times_of_sentence_div_log  \\\ncount                        85478.000000   \nmean                             0.049720   \nstd                              0.108072   \nmin                              0.000000   \n25%                              0.000000   \n50%                              0.000000   \n75%                              0.059501   \nmax                              1.533625   \n\n       horizontal_saccade_proportion_div_log  saccade_velocity_div_log  \\\ncount                           8.547800e+04              85478.000000   \nmean                            1.105526e-02                  0.008839   \nstd                             2.233940e-02                  0.022757   \nmin                             0.000000e+00                 -0.061465   \n25%                             0.000000e+00                  0.000000   \n50%                             1.037667e-36                  0.000000   \n75%                             1.806796e-02                  0.000036   \nmax                             4.342945e-01                  0.374106   \n\n       saccade_duration_div_log        length  \ncount              85478.000000  85478.000000  \nmean                -177.222467    122.685369  \nstd                 1218.019680     71.429910  \nmin               -16824.158596      7.000000  \n25%                    0.000000     76.000000  \n50%                    0.000000    108.000000  \n75%                  100.429682    154.000000  \nmax                 1381.772976    501.000000  \n\n[8 rows x 30 columns]",
      "text/html": "<div>\n<style scoped>\n    .dataframe tbody tr th:only-of-type {\n        vertical-align: middle;\n    }\n\n    .dataframe tbody tr th {\n        vertical-align: top;\n    }\n\n    .dataframe thead th {\n        text-align: right;\n    }\n</style>\n<table border=\"1\" class=\"dataframe\">\n  <thead>\n    <tr style=\"text-align: right;\">\n      <th></th>\n      <th>exp_id</th>\n      <th>article_id</th>\n      <th>time</th>\n      <th>page_id</th>\n      <th>sentence_id</th>\n      <th>need_prediction</th>\n      <th>sentence_understand</th>\n      <th>mind_wandering</th>\n      <th>total_dwell_time_of_sentence</th>\n      <th>saccade_times_of_sentence</th>\n      <th>...</th>\n      <th>saccade_velocity_div_syllable</th>\n      <th>saccade_duration_div_syllable</th>\n      <th>total_dwell_time_of_sentence_div_log</th>\n      <th>saccade_times_of_sentence_div_log</th>\n      <th>forward_times_of_sentence_div_log</th>\n      <th>backward_times_of_sentence_div_log</th>\n      <th>horizontal_saccade_proportion_div_log</th>\n      <th>saccade_velocity_div_log</th>\n      <th>saccade_duration_div_log</th>\n      <th>length</th>\n    </tr>\n  </thead>\n  <tbody>\n    <tr>\n      <th>count</th>\n      <td>85478.000000</td>\n      <td>85478.000000</td>\n      <td>85478.000000</td>\n      <td>85478.000000</td>\n      <td>85478.00000</td>\n      <td>85478.0</td>\n      <td>85478.000000</td>\n      <td>85478.000000</td>\n      <td>85478.000000</td>\n      <td>85478.000000</td>\n      <td>...</td>\n      <td>85478.000000</td>\n      <td>85478.000000</td>\n      <td>85478.000000</td>\n      <td>85478.000000</td>\n      <td>85478.000000</td>\n      <td>85478.000000</td>\n      <td>8.547800e+04</td>\n      <td>85478.000000</td>\n      <td>85478.000000</td>\n      <td>85478.000000</td>\n    </tr>\n    <tr>\n      <th>mean</th>\n      <td>1413.244262</td>\n      <td>27.324469</td>\n      <td>15.443915</td>\n      <td>2225.021456</td>\n      <td>4.54476</td>\n      <td>0.0</td>\n      <td>0.878565</td>\n      <td>0.898769</td>\n      <td>4448.287325</td>\n      <td>9.110824</td>\n      <td>...</td>\n      <td>0.008514</td>\n      <td>-163.006800</td>\n      <td>130.964078</td>\n      <td>0.266024</td>\n      <td>0.216303</td>\n      <td>0.049720</td>\n      <td>1.105526e-02</td>\n      <td>0.008839</td>\n      <td>-177.222467</td>\n      <td>122.685369</td>\n    </tr>\n    <tr>\n      <th>std</th>\n      <td>441.710703</td>\n      <td>14.862575</td>\n      <td>12.470388</td>\n      <td>515.453413</td>\n      <td>3.51993</td>\n      <td>0.0</td>\n      <td>0.326634</td>\n      <td>0.301636</td>\n      <td>7651.512771</td>\n      <td>15.044595</td>\n      <td>...</td>\n      <td>0.022715</td>\n      <td>1158.996540</td>\n      <td>187.658527</td>\n      <td>0.355527</td>\n      <td>0.268615</td>\n      <td>0.108072</td>\n      <td>2.233940e-02</td>\n      <td>0.022757</td>\n      <td>1218.019680</td>\n      <td>71.429910</td>\n    </tr>\n    <tr>\n      <th>min</th>\n      <td>506.000000</td>\n      <td>1.000000</td>\n      <td>0.000000</td>\n      <td>1078.000000</td>\n      <td>0.00000</td>\n      <td>0.0</td>\n      <td>0.000000</td>\n      <td>0.000000</td>\n      <td>0.000000</td>\n      <td>0.000000</td>\n      <td>...</td>\n      <td>-0.059366</td>\n      <td>-18891.571429</td>\n      <td>0.000000</td>\n      <td>0.000000</td>\n      <td>0.000000</td>\n      <td>0.000000</td>\n      <td>0.000000e+00</td>\n      <td>-0.061465</td>\n      <td>-16824.158596</td>\n      <td>7.000000</td>\n    </tr>\n    <tr>\n      <th>25%</th>\n      <td>1049.000000</td>\n      <td>15.000000</td>\n      <td>6.000000</td>\n      <td>1785.000000</td>\n      <td>2.00000</td>\n      <td>0.0</td>\n      <td>1.000000</td>\n      <td>1.000000</td>\n      <td>0.000000</td>\n      <td>0.000000</td>\n      <td>...</td>\n      <td>0.000000</td>\n      <td>0.000000</td>\n      <td>0.000000</td>\n      <td>0.000000</td>\n      <td>0.000000</td>\n      <td>0.000000</td>\n      <td>0.000000e+00</td>\n      <td>0.000000</td>\n      <td>0.000000</td>\n      <td>76.000000</td>\n    </tr>\n    <tr>\n      <th>50%</th>\n      <td>1198.000000</td>\n      <td>27.000000</td>\n      <td>13.000000</td>\n      <td>2045.000000</td>\n      <td>4.00000</td>\n      <td>0.0</td>\n      <td>1.000000</td>\n      <td>1.000000</td>\n      <td>493.000000</td>\n      <td>1.000000</td>\n      <td>...</td>\n      <td>0.000000</td>\n      <td>0.000000</td>\n      <td>20.426226</td>\n      <td>0.055877</td>\n      <td>0.048639</td>\n      <td>0.000000</td>\n      <td>1.037667e-36</td>\n      <td>0.000000</td>\n      <td>0.000000</td>\n      <td>108.000000</td>\n    </tr>\n    <tr>\n      <th>75%</th>\n      <td>1856.000000</td>\n      <td>41.000000</td>\n      <td>22.000000</td>\n      <td>2729.000000</td>\n      <td>7.00000</td>\n      <td>0.0</td>\n      <td>1.000000</td>\n      <td>1.000000</td>\n      <td>6206.000000</td>\n      <td>13.000000</td>\n      <td>...</td>\n      <td>0.000033</td>\n      <td>93.821429</td>\n      <td>222.028574</td>\n      <td>0.463524</td>\n      <td>0.401709</td>\n      <td>0.059501</td>\n      <td>1.806796e-02</td>\n      <td>0.000036</td>\n      <td>100.429682</td>\n      <td>154.000000</td>\n    </tr>\n    <tr>\n      <th>max</th>\n      <td>2059.000000</td>\n      <td>60.000000</td>\n      <td>77.000000</td>\n      <td>2853.000000</td>\n      <td>19.00000</td>\n      <td>0.0</td>\n      <td>1.000000</td>\n      <td>1.000000</td>\n      <td>85666.000000</td>\n      <td>178.000000</td>\n      <td>...</td>\n      <td>0.430705</td>\n      <td>2049.666667</td>\n      <td>1859.630391</td>\n      <td>3.853600</td>\n      <td>2.438987</td>\n      <td>1.533625</td>\n      <td>4.342945e-01</td>\n      <td>0.374106</td>\n      <td>1381.772976</td>\n      <td>501.000000</td>\n    </tr>\n  </tbody>\n</table>\n<p>8 rows × 30 columns</p>\n</div>"
     },
     "execution_count": 6,
     "metadata": {},
     "output_type": "execute_result"
    }
   ],
   "source": [
    "import pandas as pd\n",
    "\n",
    "data = pd.read_csv('20230713/sent-feature-20230713-190.csv')\n",
    "data.describe()"
   ],
   "metadata": {
    "collapsed": false
   }
  },
  {
   "cell_type": "code",
   "execution_count": 7,
   "outputs": [],
   "source": [
    "import pandas as pd\n",
    "\n",
    "# 读取CSV文件\n",
    "df = pd.read_csv('20230713/word-level-feature.csv')\n",
    "\n",
    "# 删除某一列，假设列名为'column_name'\n",
    "df = df.drop('user', axis=1)\n",
    "\n",
    "# 保存到新的CSV文件\n",
    "df.to_csv('20230713/word-level-feature.csv', index=False)\n"
   ],
   "metadata": {
    "collapsed": false
   }
  },
  {
   "cell_type": "code",
   "execution_count": 8,
   "outputs": [
    {
     "name": "stdout",
     "output_type": "stream",
     "text": [
      "5.555555555555555\n"
     ]
    }
   ],
   "source": [
    "# 计算机\n",
    "print(200 / 36)"
   ],
   "metadata": {
    "collapsed": false
   }
  },
  {
   "cell_type": "code",
   "execution_count": 23,
   "outputs": [
    {
     "data": {
      "text/plain": "       exp_id     word  word_understand  reading_times  number_of_fixations  \\\n0         585        A                1              0                    0   \n1         585    judge                1              1                    3   \n2         585       in                1              1                    1   \n3         585      the                1              0                    0   \n4         585       US                1              1                    1   \n...       ...      ...              ...            ...                  ...   \n12167    1156   enough                1              0                    0   \n12168    1156       to                1              0                    0   \n12169    1156  deflect                0              0                    0   \n12170    1156      its                1              0                    0   \n12171    1156     path                1              0                    0   \n\n       fixation_duration  fixation_duration_div_syllable  \\\n0                      0                             0.0   \n1                    927                           927.0   \n2                    245                           245.0   \n3                      0                             0.0   \n4                    321                           321.0   \n...                  ...                             ...   \n12167                  0                             0.0   \n12168                  0                             0.0   \n12169                  0                             0.0   \n12170                  0                             0.0   \n12171                  0                             0.0   \n\n       fixation_duration_div_length  fixation_duration_diff  \\\n0                               0.0                       0   \n1                             185.4                     927   \n2                             122.5                    -682   \n3                               0.0                    -245   \n4                             160.5                     321   \n...                             ...                     ...   \n12167                           0.0                       0   \n12168                           0.0                       0   \n12169                           0.0                       0   \n12170                           0.0                       0   \n12171                           0.0                       0   \n\n       number_of_fixations_diff  reading_times_diff  \n0                             0                   0  \n1                             3                   1  \n2                            -2                   0  \n3                            -1                  -1  \n4                             1                   1  \n...                         ...                 ...  \n12167                         0                   0  \n12168                         0                   0  \n12169                         0                   0  \n12170                         0                   0  \n12171                         0                   0  \n\n[12172 rows x 11 columns]",
      "text/html": "<div>\n<style scoped>\n    .dataframe tbody tr th:only-of-type {\n        vertical-align: middle;\n    }\n\n    .dataframe tbody tr th {\n        vertical-align: top;\n    }\n\n    .dataframe thead th {\n        text-align: right;\n    }\n</style>\n<table border=\"1\" class=\"dataframe\">\n  <thead>\n    <tr style=\"text-align: right;\">\n      <th></th>\n      <th>exp_id</th>\n      <th>word</th>\n      <th>word_understand</th>\n      <th>reading_times</th>\n      <th>number_of_fixations</th>\n      <th>fixation_duration</th>\n      <th>fixation_duration_div_syllable</th>\n      <th>fixation_duration_div_length</th>\n      <th>fixation_duration_diff</th>\n      <th>number_of_fixations_diff</th>\n      <th>reading_times_diff</th>\n    </tr>\n  </thead>\n  <tbody>\n    <tr>\n      <th>0</th>\n      <td>585</td>\n      <td>A</td>\n      <td>1</td>\n      <td>0</td>\n      <td>0</td>\n      <td>0</td>\n      <td>0.0</td>\n      <td>0.0</td>\n      <td>0</td>\n      <td>0</td>\n      <td>0</td>\n    </tr>\n    <tr>\n      <th>1</th>\n      <td>585</td>\n      <td>judge</td>\n      <td>1</td>\n      <td>1</td>\n      <td>3</td>\n      <td>927</td>\n      <td>927.0</td>\n      <td>185.4</td>\n      <td>927</td>\n      <td>3</td>\n      <td>1</td>\n    </tr>\n    <tr>\n      <th>2</th>\n      <td>585</td>\n      <td>in</td>\n      <td>1</td>\n      <td>1</td>\n      <td>1</td>\n      <td>245</td>\n      <td>245.0</td>\n      <td>122.5</td>\n      <td>-682</td>\n      <td>-2</td>\n      <td>0</td>\n    </tr>\n    <tr>\n      <th>3</th>\n      <td>585</td>\n      <td>the</td>\n      <td>1</td>\n      <td>0</td>\n      <td>0</td>\n      <td>0</td>\n      <td>0.0</td>\n      <td>0.0</td>\n      <td>-245</td>\n      <td>-1</td>\n      <td>-1</td>\n    </tr>\n    <tr>\n      <th>4</th>\n      <td>585</td>\n      <td>US</td>\n      <td>1</td>\n      <td>1</td>\n      <td>1</td>\n      <td>321</td>\n      <td>321.0</td>\n      <td>160.5</td>\n      <td>321</td>\n      <td>1</td>\n      <td>1</td>\n    </tr>\n    <tr>\n      <th>...</th>\n      <td>...</td>\n      <td>...</td>\n      <td>...</td>\n      <td>...</td>\n      <td>...</td>\n      <td>...</td>\n      <td>...</td>\n      <td>...</td>\n      <td>...</td>\n      <td>...</td>\n      <td>...</td>\n    </tr>\n    <tr>\n      <th>12167</th>\n      <td>1156</td>\n      <td>enough</td>\n      <td>1</td>\n      <td>0</td>\n      <td>0</td>\n      <td>0</td>\n      <td>0.0</td>\n      <td>0.0</td>\n      <td>0</td>\n      <td>0</td>\n      <td>0</td>\n    </tr>\n    <tr>\n      <th>12168</th>\n      <td>1156</td>\n      <td>to</td>\n      <td>1</td>\n      <td>0</td>\n      <td>0</td>\n      <td>0</td>\n      <td>0.0</td>\n      <td>0.0</td>\n      <td>0</td>\n      <td>0</td>\n      <td>0</td>\n    </tr>\n    <tr>\n      <th>12169</th>\n      <td>1156</td>\n      <td>deflect</td>\n      <td>0</td>\n      <td>0</td>\n      <td>0</td>\n      <td>0</td>\n      <td>0.0</td>\n      <td>0.0</td>\n      <td>0</td>\n      <td>0</td>\n      <td>0</td>\n    </tr>\n    <tr>\n      <th>12170</th>\n      <td>1156</td>\n      <td>its</td>\n      <td>1</td>\n      <td>0</td>\n      <td>0</td>\n      <td>0</td>\n      <td>0.0</td>\n      <td>0.0</td>\n      <td>0</td>\n      <td>0</td>\n      <td>0</td>\n    </tr>\n    <tr>\n      <th>12171</th>\n      <td>1156</td>\n      <td>path</td>\n      <td>1</td>\n      <td>0</td>\n      <td>0</td>\n      <td>0</td>\n      <td>0.0</td>\n      <td>0.0</td>\n      <td>0</td>\n      <td>0</td>\n      <td>0</td>\n    </tr>\n  </tbody>\n</table>\n<p>12172 rows × 11 columns</p>\n</div>"
     },
     "execution_count": 23,
     "metadata": {},
     "output_type": "execute_result"
    }
   ],
   "source": [
    "import pandas as pd\n",
    "\n",
    "data = pd.read_csv(\"./20230817/all-word-feature-20230817-125.csv\")\n",
    "data"
   ],
   "metadata": {
    "collapsed": false
   }
  },
  {
   "cell_type": "code",
   "execution_count": 5,
   "outputs": [
    {
     "name": "stdout",
     "output_type": "stream",
     "text": [
      "每一列和列 'word_understand' 的相关性：\n",
      "exp_id                           -0.014554\n",
      "word_understand                   1.000000\n",
      "reading_times                    -0.125476\n",
      "number_of_fixations              -0.229350\n",
      "fixation_duration                -0.247080\n",
      "fixation_duration_div_syllable   -0.102052\n",
      "fixation_duration_div_length     -0.070788\n",
      "fixation_duration_diff           -0.189451\n",
      "number_of_fixations_diff         -0.173252\n",
      "reading_times_diff               -0.089193\n",
      "dtype: float64\n"
     ]
    },
    {
     "name": "stderr",
     "output_type": "stream",
     "text": [
      "C:\\Users\\20591\\AppData\\Local\\Temp\\ipykernel_17492\\3775996968.py:5: FutureWarning: The default value of numeric_only in DataFrame.corrwith is deprecated. In a future version, it will default to False. Select only valid columns or specify the value of numeric_only to silence this warning.\n",
      "  correlations = data.corrwith(data[target_column])\n"
     ]
    }
   ],
   "source": [
    "# 指定要计算相关性的列\n",
    "target_column = 'word_understand'\n",
    "\n",
    "# 计算每一列和指定列的相关性\n",
    "correlations = data.corrwith(data[target_column])\n",
    "\n",
    "print(\"每一列和列 '{}' 的相关性：\".format(target_column))\n",
    "print(correlations)"
   ],
   "metadata": {
    "collapsed": false
   }
  },
  {
   "cell_type": "code",
   "execution_count": 11,
   "outputs": [
    {
     "name": "stdout",
     "output_type": "stream",
     "text": [
      "选择的特征： Index(['reading_times', 'number_of_fixations', 'fixation_duration_div_length',\n",
      "       'number_of_fixations_diff', 'reading_times_diff'],\n",
      "      dtype='object')\n",
      "R^2 分数： 0.07834652866762626\n"
     ]
    }
   ],
   "source": [
    "import pandas as pd\n",
    "from sklearn.feature_selection import RFE\n",
    "from sklearn.model_selection import train_test_split\n",
    "from sklearn.linear_model import LinearRegression\n",
    "from sklearn.metrics import r2_score\n",
    "\n",
    "df = data\n",
    "\n",
    "# 划分特征和目标变量\n",
    "X = df.drop(['word_understand', 'word'], axis=1)\n",
    "y = df['word_understand']\n",
    "\n",
    "# 划分训练集和测试集\n",
    "X_train, X_test, y_train, y_test = train_test_split(X, y, test_size=0.2, random_state=42)\n",
    "\n",
    "# 使用线性回归模型和递归特征消除来选择特征\n",
    "estimator = LinearRegression()\n",
    "rfe = RFE(estimator, n_features_to_select=5)\n",
    "rfe.fit(X_train, y_train)\n",
    "\n",
    "# 输出选择的特征\n",
    "selected_features = X.columns[rfe.support_]\n",
    "print(\"选择的特征：\", selected_features)\n",
    "\n",
    "# 使用选择的特征来训练模型\n",
    "estimator.fit(X_train[selected_features], y_train)\n",
    "y_pred = estimator.predict(X_test[selected_features])\n",
    "\n",
    "# 计算预测性能\n",
    "r2 = r2_score(y_test, y_pred)\n",
    "print(\"R^2 分数：\", r2)\n"
   ],
   "metadata": {
    "collapsed": false
   }
  },
  {
   "cell_type": "code",
   "execution_count": 19,
   "outputs": [
    {
     "name": "stdout",
     "output_type": "stream",
     "text": [
      "最佳特征组合： ('reading_times', 'fixation_duration', 'fixation_duration_div_syllable')\n",
      "最佳 R² 分数： 0.08211178036515934\n"
     ]
    }
   ],
   "source": [
    "import itertools\n",
    "from sklearn.model_selection import cross_val_score\n",
    "from sklearn.linear_model import LinearRegression\n",
    "from sklearn.metrics import r2_score\n",
    "\n",
    "df = data\n",
    "\n",
    "# 划分特征和目标变量\n",
    "X = df.drop(['word_understand', 'word'], axis=1)\n",
    "y = df['word_understand']\n",
    "\n",
    "# 指定要选择的特征数量\n",
    "n_features = 3\n",
    "\n",
    "# 遍历所有可能的特征组合\n",
    "feature_combinations = itertools.combinations(X.columns, n_features)\n",
    "\n",
    "# 使用交叉验证计算每个组合的 R² 分数\n",
    "best_score = -float('inf')\n",
    "best_features = None\n",
    "for features in feature_combinations:\n",
    "    X_subset = X[list(features)]\n",
    "    scores = cross_val_score(LinearRegression(), X_subset, y, cv=5, scoring='r2')\n",
    "    mean_score = scores.mean()\n",
    "    if mean_score > best_score:\n",
    "        best_score = mean_score\n",
    "        best_features = features\n",
    "\n",
    "print(\"最佳特征组合：\", best_features)\n",
    "print(\"最佳 R² 分数：\", best_score)\n"
   ],
   "metadata": {
    "collapsed": false
   }
  },
  {
   "cell_type": "code",
   "execution_count": 59,
   "outputs": [
    {
     "name": "stdout",
     "output_type": "stream",
     "text": [
      "准确率: 0.9786447638603696\n",
      "分类报告:\n",
      "              precision    recall  f1-score   support\n",
      "\n",
      "           0       0.00      0.00      0.00        52\n",
      "           1       0.98      1.00      0.99      2383\n",
      "\n",
      "    accuracy                           0.98      2435\n",
      "   macro avg       0.49      0.50      0.49      2435\n",
      "weighted avg       0.96      0.98      0.97      2435\n",
      "\n"
     ]
    },
    {
     "name": "stderr",
     "output_type": "stream",
     "text": [
      "D:\\qxy\\stAsJDK\\lib\\site-packages\\sklearn\\metrics\\_classification.py:1334: UndefinedMetricWarning: Precision and F-score are ill-defined and being set to 0.0 in labels with no predicted samples. Use `zero_division` parameter to control this behavior.\n",
      "  _warn_prf(average, modifier, msg_start, len(result))\n",
      "D:\\qxy\\stAsJDK\\lib\\site-packages\\sklearn\\metrics\\_classification.py:1334: UndefinedMetricWarning: Precision and F-score are ill-defined and being set to 0.0 in labels with no predicted samples. Use `zero_division` parameter to control this behavior.\n",
      "  _warn_prf(average, modifier, msg_start, len(result))\n",
      "D:\\qxy\\stAsJDK\\lib\\site-packages\\sklearn\\metrics\\_classification.py:1334: UndefinedMetricWarning: Precision and F-score are ill-defined and being set to 0.0 in labels with no predicted samples. Use `zero_division` parameter to control this behavior.\n",
      "  _warn_prf(average, modifier, msg_start, len(result))\n"
     ]
    }
   ],
   "source": [
    "import pandas as pd\n",
    "from sklearn.model_selection import train_test_split\n",
    "from sklearn.svm import SVC\n",
    "from sklearn.metrics import accuracy_score, classification_report\n",
    "\n",
    "# 创建一个示例数据集\n",
    "df = pd.read_csv('./20230817/all-word-feature-20230817-125.csv')\n",
    "\n",
    "# 划分特征和标签\n",
    "X = df[['number_of_fixations', 'reading_times', 'fixation_duration','fixation_duration_div_syllable']]\n",
    "y = df['word_understand']\n",
    "\n",
    "# 划分训练集和测试集\n",
    "X_train, X_test, y_train, y_test = train_test_split(X, y, test_size=0.2, random_state=42)\n",
    "\n",
    "# 训练SVM模型\n",
    "model = SVC(random_state=42)\n",
    "model.fit(X_train, y_train)\n",
    "\n",
    "# 在测试集上进行预测\n",
    "y_pred = model.predict(X_test)\n",
    "\n",
    "# 计算模型评估指标\n",
    "accuracy = accuracy_score(y_test, y_pred)\n",
    "report = classification_report(y_test, y_pred)\n",
    "\n",
    "print(\"准确率:\", accuracy)\n",
    "print(\"分类报告:\")\n",
    "print(report)\n"
   ],
   "metadata": {
    "collapsed": false
   }
  },
  {
   "cell_type": "code",
   "execution_count": 26,
   "outputs": [
    {
     "data": {
      "text/plain": "       exp_id     word  word_understand  reading_times  number_of_fixations  \\\n0         585        A                1              0                    0   \n1         585    judge                1              1                    3   \n2         585       in                1              1                    1   \n3         585      the                1              0                    0   \n4         585       US                1              1                    1   \n...       ...      ...              ...            ...                  ...   \n12167    1156   enough                1              0                    0   \n12168    1156       to                1              0                    0   \n12169    1156  deflect                0              0                    0   \n12170    1156      its                1              0                    0   \n12171    1156     path                1              0                    0   \n\n       fixation_duration  fixation_duration_div_syllable  \\\n0                      0                             0.0   \n1                    927                           927.0   \n2                    245                           245.0   \n3                      0                             0.0   \n4                    321                           321.0   \n...                  ...                             ...   \n12167                  0                             0.0   \n12168                  0                             0.0   \n12169                  0                             0.0   \n12170                  0                             0.0   \n12171                  0                             0.0   \n\n       fixation_duration_div_length  fixation_duration_diff  \\\n0                               0.0                       0   \n1                             185.4                     927   \n2                             122.5                    -682   \n3                               0.0                    -245   \n4                             160.5                     321   \n...                             ...                     ...   \n12167                           0.0                       0   \n12168                           0.0                       0   \n12169                           0.0                       0   \n12170                           0.0                       0   \n12171                           0.0                       0   \n\n       number_of_fixations_diff  reading_times_diff  \n0                             0                   0  \n1                             3                   1  \n2                            -2                   0  \n3                            -1                  -1  \n4                             1                   1  \n...                         ...                 ...  \n12167                         0                   0  \n12168                         0                   0  \n12169                         0                   0  \n12170                         0                   0  \n12171                         0                   0  \n\n[12172 rows x 11 columns]",
      "text/html": "<div>\n<style scoped>\n    .dataframe tbody tr th:only-of-type {\n        vertical-align: middle;\n    }\n\n    .dataframe tbody tr th {\n        vertical-align: top;\n    }\n\n    .dataframe thead th {\n        text-align: right;\n    }\n</style>\n<table border=\"1\" class=\"dataframe\">\n  <thead>\n    <tr style=\"text-align: right;\">\n      <th></th>\n      <th>exp_id</th>\n      <th>word</th>\n      <th>word_understand</th>\n      <th>reading_times</th>\n      <th>number_of_fixations</th>\n      <th>fixation_duration</th>\n      <th>fixation_duration_div_syllable</th>\n      <th>fixation_duration_div_length</th>\n      <th>fixation_duration_diff</th>\n      <th>number_of_fixations_diff</th>\n      <th>reading_times_diff</th>\n    </tr>\n  </thead>\n  <tbody>\n    <tr>\n      <th>0</th>\n      <td>585</td>\n      <td>A</td>\n      <td>1</td>\n      <td>0</td>\n      <td>0</td>\n      <td>0</td>\n      <td>0.0</td>\n      <td>0.0</td>\n      <td>0</td>\n      <td>0</td>\n      <td>0</td>\n    </tr>\n    <tr>\n      <th>1</th>\n      <td>585</td>\n      <td>judge</td>\n      <td>1</td>\n      <td>1</td>\n      <td>3</td>\n      <td>927</td>\n      <td>927.0</td>\n      <td>185.4</td>\n      <td>927</td>\n      <td>3</td>\n      <td>1</td>\n    </tr>\n    <tr>\n      <th>2</th>\n      <td>585</td>\n      <td>in</td>\n      <td>1</td>\n      <td>1</td>\n      <td>1</td>\n      <td>245</td>\n      <td>245.0</td>\n      <td>122.5</td>\n      <td>-682</td>\n      <td>-2</td>\n      <td>0</td>\n    </tr>\n    <tr>\n      <th>3</th>\n      <td>585</td>\n      <td>the</td>\n      <td>1</td>\n      <td>0</td>\n      <td>0</td>\n      <td>0</td>\n      <td>0.0</td>\n      <td>0.0</td>\n      <td>-245</td>\n      <td>-1</td>\n      <td>-1</td>\n    </tr>\n    <tr>\n      <th>4</th>\n      <td>585</td>\n      <td>US</td>\n      <td>1</td>\n      <td>1</td>\n      <td>1</td>\n      <td>321</td>\n      <td>321.0</td>\n      <td>160.5</td>\n      <td>321</td>\n      <td>1</td>\n      <td>1</td>\n    </tr>\n    <tr>\n      <th>...</th>\n      <td>...</td>\n      <td>...</td>\n      <td>...</td>\n      <td>...</td>\n      <td>...</td>\n      <td>...</td>\n      <td>...</td>\n      <td>...</td>\n      <td>...</td>\n      <td>...</td>\n      <td>...</td>\n    </tr>\n    <tr>\n      <th>12167</th>\n      <td>1156</td>\n      <td>enough</td>\n      <td>1</td>\n      <td>0</td>\n      <td>0</td>\n      <td>0</td>\n      <td>0.0</td>\n      <td>0.0</td>\n      <td>0</td>\n      <td>0</td>\n      <td>0</td>\n    </tr>\n    <tr>\n      <th>12168</th>\n      <td>1156</td>\n      <td>to</td>\n      <td>1</td>\n      <td>0</td>\n      <td>0</td>\n      <td>0</td>\n      <td>0.0</td>\n      <td>0.0</td>\n      <td>0</td>\n      <td>0</td>\n      <td>0</td>\n    </tr>\n    <tr>\n      <th>12169</th>\n      <td>1156</td>\n      <td>deflect</td>\n      <td>0</td>\n      <td>0</td>\n      <td>0</td>\n      <td>0</td>\n      <td>0.0</td>\n      <td>0.0</td>\n      <td>0</td>\n      <td>0</td>\n      <td>0</td>\n    </tr>\n    <tr>\n      <th>12170</th>\n      <td>1156</td>\n      <td>its</td>\n      <td>1</td>\n      <td>0</td>\n      <td>0</td>\n      <td>0</td>\n      <td>0.0</td>\n      <td>0.0</td>\n      <td>0</td>\n      <td>0</td>\n      <td>0</td>\n    </tr>\n    <tr>\n      <th>12171</th>\n      <td>1156</td>\n      <td>path</td>\n      <td>1</td>\n      <td>0</td>\n      <td>0</td>\n      <td>0</td>\n      <td>0.0</td>\n      <td>0.0</td>\n      <td>0</td>\n      <td>0</td>\n      <td>0</td>\n    </tr>\n  </tbody>\n</table>\n<p>12172 rows × 11 columns</p>\n</div>"
     },
     "execution_count": 26,
     "metadata": {},
     "output_type": "execute_result"
    }
   ],
   "source": [
    "import pandas as pd\n",
    "\n",
    "data = pd.read_csv(\"./20230817/all-word-feature-20230817-125.csv\")"
   ],
   "metadata": {
    "collapsed": false
   }
  },
  {
   "cell_type": "code",
   "execution_count": 41,
   "outputs": [
    {
     "name": "stdout",
     "output_type": "stream",
     "text": [
      "33\n"
     ]
    }
   ],
   "source": [
    "skip_level = {}\n",
    "for row, item in data.iterrows():\n",
    "    if item['exp_id'] not in skip_level:\n",
    "        skip_level[item['exp_id']] = {\"word_num\": 0, \"skip_word_num\": 0}\n",
    "    skip_level[item['exp_id']]['word_num'] += 1\n",
    "    if item[\"number_of_fixations\"] == 0:\n",
    "        skip_level[item['exp_id']]['skip_word_num'] += 1\n",
    "skip_level\n",
    "print(len(skip_level))"
   ],
   "metadata": {
    "collapsed": false
   }
  },
  {
   "cell_type": "code",
   "execution_count": 38,
   "outputs": [
    {
     "name": "stdout",
     "output_type": "stream",
     "text": [
      "[590, 597, 598, 641, 941, 965, 970, 972, 1011, 1014, 1072, 1073, 1074, 1090, 1129, 1144, 1146]\n",
      "17\n"
     ]
    }
   ],
   "source": [
    "skip_exp = []\n",
    "for key, val in skip_level.items():\n",
    "    # print(f\"{key}:{val['skip_word_num']/val['word_num']}\")\n",
    "    if val['skip_word_num']/val['word_num'] < 0.40:\n",
    "        skip_exp.append(key)\n",
    "print(skip_exp)\n",
    "print(len(skip_exp))"
   ],
   "metadata": {
    "collapsed": false
   }
  },
  {
   "cell_type": "code",
   "execution_count": 42,
   "outputs": [],
   "source": [
    "skip_data = data[data['exp_id'].isin(skip_exp)]\n",
    "skip_data.to_csv('skip_data.csv')"
   ],
   "metadata": {
    "collapsed": false
   }
  },
  {
   "cell_type": "code",
   "execution_count": 43,
   "outputs": [],
   "source": [
    "not_skip_data = data[~data['exp_id'].isin(skip_exp)]\n",
    "not_skip_data.to_csv('not_skip_data.csv')"
   ],
   "metadata": {
    "collapsed": false
   }
  }
 ],
 "metadata": {
  "kernelspec": {
   "display_name": "Python 3",
   "language": "python",
   "name": "python3"
  },
  "language_info": {
   "codemirror_mode": {
    "name": "ipython",
    "version": 2
   },
   "file_extension": ".py",
   "mimetype": "text/x-python",
   "name": "python",
   "nbconvert_exporter": "python",
   "pygments_lexer": "ipython2",
   "version": "2.7.6"
  }
 },
 "nbformat": 4,
 "nbformat_minor": 0
}
