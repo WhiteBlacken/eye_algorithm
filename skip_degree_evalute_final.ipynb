{
 "cells": [
  {
   "cell_type": "code",
   "execution_count": 12,
   "metadata": {},
   "outputs": [],
   "source": [
    "import pandas as pd\n",
    "eye_tracking_data = pd.read_csv('data/raw_data_0317.csv')"
   ]
  },
  {
   "cell_type": "code",
   "execution_count": 13,
   "metadata": {},
   "outputs": [
    {
     "data": {
      "text/html": [
       "<div>\n",
       "<style scoped>\n",
       "    .dataframe tbody tr th:only-of-type {\n",
       "        vertical-align: middle;\n",
       "    }\n",
       "\n",
       "    .dataframe tbody tr th {\n",
       "        vertical-align: top;\n",
       "    }\n",
       "\n",
       "    .dataframe thead th {\n",
       "        text-align: right;\n",
       "    }\n",
       "</style>\n",
       "<table border=\"1\" class=\"dataframe\">\n",
       "  <thead>\n",
       "    <tr style=\"text-align: right;\">\n",
       "      <th></th>\n",
       "      <th>Unnamed: 0</th>\n",
       "      <th>uid</th>\n",
       "      <th>page_id</th>\n",
       "      <th>text_sequences</th>\n",
       "      <th>eye_tracking_sequences</th>\n",
       "      <th>labels</th>\n",
       "    </tr>\n",
       "  </thead>\n",
       "  <tbody>\n",
       "    <tr>\n",
       "      <th>0</th>\n",
       "      <td>0</td>\n",
       "      <td>ys</td>\n",
       "      <td>1226</td>\n",
       "      <td>[[0, 'A', 330, 95, 32, 52], [1, 'judge', 362, ...</td>\n",
       "      <td>[[499, 499, 15], [499, 497, 10470], [497, 490,...</td>\n",
       "      <td>[0, 0, 0, 0, 0, 0, 0, 0, 0, 0, 0, 0, 0, 0, 0, ...</td>\n",
       "    </tr>\n",
       "  </tbody>\n",
       "</table>\n",
       "</div>"
      ],
      "text/plain": [
       "   Unnamed: 0 uid  page_id                                     text_sequences  \\\n",
       "0           0  ys     1226  [[0, 'A', 330, 95, 32, 52], [1, 'judge', 362, ...   \n",
       "\n",
       "                              eye_tracking_sequences  \\\n",
       "0  [[499, 499, 15], [499, 497, 10470], [497, 490,...   \n",
       "\n",
       "                                              labels  \n",
       "0  [0, 0, 0, 0, 0, 0, 0, 0, 0, 0, 0, 0, 0, 0, 0, ...  "
      ]
     },
     "execution_count": 13,
     "metadata": {},
     "output_type": "execute_result"
    }
   ],
   "source": [
    "# 查看data的结构\n",
    "eye_tracking_data.head(1)"
   ]
  },
  {
   "cell_type": "markdown",
   "metadata": {},
   "source": [
    "# 跳读幅度"
   ]
  },
  {
   "cell_type": "code",
   "execution_count": 14,
   "metadata": {},
   "outputs": [],
   "source": [
    "import math\n",
    "\n",
    "class EyeTrackingDataEvaluate:\n",
    "    def __init__(self, eye_tracking_data_list, window_size) -> None:\n",
    "        self.data_list = eye_tracking_data_list # [x, y, timestamp, page_id]\n",
    "        self.window_size = window_size\n",
    "\n",
    "    def RmsScore(self) -> float:\n",
    "        res = 0.0\n",
    "        for i in range(len(self.data_list)):\n",
    "            if i == 0:\n",
    "                continue\n",
    "            diff_x = self.data_list[i][0]-self.data_list[i-1][0]\n",
    "            diff_y = self.data_list[i][1]-self.data_list[i-1][1]\n",
    "            res += pow(diff_x, 2) + pow(diff_y, 2)\n",
    "        res = math.sqrt(res/len(self.data_list))\n",
    "        return res\n",
    "\n",
    "    def STDWindowScore(self) -> float:\n",
    "        res = 0.0\n",
    "        dataCluster = [] # 记录聚合了的眼动\n",
    "        for i in range(len(self.data_list)):\n",
    "            if len(dataCluster) == 0:\n",
    "                dataCluster.append(self.data_list[i])\n",
    "            else:\n",
    "                if self.data_list[i][2] - dataCluster[0][2] > self.window_size:\n",
    "                    res += self.SquareVal(dataCluster)\n",
    "                    dataCluster = []\n",
    "                else:\n",
    "                    dataCluster.append(self.data_list[i])\n",
    "            if i == len(self.data_list) - 1 and len(dataCluster) > 0:\n",
    "                res += self.SquareVal(dataCluster)\n",
    "                dataCluster = []\n",
    "        res = math.sqrt(res/len(self.data_list))\n",
    "        return res\n",
    "\n",
    "    def SquareVal(self, data_list):\n",
    "        res = 0\n",
    "        avg_x = sum([data[0] for data in data_list]) / len(data_list)\n",
    "        avg_y = sum([data[1] for data in data_list]) / len(data_list)\n",
    "        for data in data_list:\n",
    "            res += pow(data[0] - avg_x, 2) + pow(data[1] - avg_y, 2)\n",
    "        return res\n",
    "\n",
    "    def FinalScore(self) -> int:\n",
    "        rmsScore = self.RmsScore()\n",
    "        stdScore = self.STDWindowScore()\n",
    "        finalScore = math.sqrt(pow(rmsScore, 2) + pow(stdScore, 2))\n",
    "        # print(f\"finalScore={finalScore}, rmsScore={rmsScore}, stdScore={stdScore}\")\n",
    "        return finalScore"
   ]
  },
  {
   "cell_type": "code",
   "execution_count": 15,
   "metadata": {},
   "outputs": [],
   "source": [
    "class EyeTrackingData:\n",
    "    def __init__(self, eye_tracking_sequences, page_id) -> None:\n",
    "        self.eye_tracking_sequences = eye_tracking_sequences\n",
    "        self.page_id = page_id"
   ]
  },
  {
   "cell_type": "code",
   "execution_count": 16,
   "metadata": {},
   "outputs": [
    {
     "name": "stdout",
     "output_type": "stream",
     "text": [
      "214\n"
     ]
    }
   ],
   "source": [
    "# 构造数据\n",
    "eye_tracking_data_list = [] # page维度\n",
    "for idx, row in eye_tracking_data.iterrows():\n",
    "    eye_tracking_data_list.append(EyeTrackingData(eval(row['eye_tracking_sequences']), row['page_id']))\n",
    "print(len(eye_tracking_data_list))\n"
   ]
  },
  {
   "cell_type": "code",
   "execution_count": 17,
   "metadata": {},
   "outputs": [
    {
     "name": "stdout",
     "output_type": "stream",
     "text": [
      "214\n"
     ]
    }
   ],
   "source": [
    "# 组装数据\n",
    "noise_degree_list = []\n",
    "for data in eye_tracking_data_list:\n",
    "    score = EyeTrackingDataEvaluate(eye_tracking_data_list=data.eye_tracking_sequences, \n",
    "                        window_size=1000).FinalScore()\n",
    "    noise_degree_list.append([score, data.page_id])\n",
    "print(len(noise_degree_list))"
   ]
  },
  {
   "cell_type": "code",
   "execution_count": 18,
   "metadata": {},
   "outputs": [
    {
     "data": {
      "image/png": "[encoded data removed]",
      "text/plain": [
       "<Figure size 500x500 with 1 Axes>"
      ]
     },
     "metadata": {},
     "output_type": "display_data"
    }
   ],
   "source": [
    "import seaborn as sns\n",
    "import matplotlib.pyplot as plt\n",
    "\n",
    "sns.displot([x[0] for x in noise_degree_list], kde=True)  # kde=True 表示同时绘制核密度估计图\n",
    "plt.xlabel('Value')\n",
    "plt.ylabel('Frequency')\n",
    "plt.title('Histogram and KDE Plot')\n",
    "plt.show()"
   ]
  },
  {
   "cell_type": "code",
   "execution_count": 16,
   "metadata": {},
   "outputs": [
    {
     "name": "stdout",
     "output_type": "stream",
     "text": [
      "阈值为: 188.63487736840406\n"
     ]
    }
   ],
   "source": [
    "# 确定异常的阈值\n",
    "import numpy as np\n",
    "\n",
    "mean = np.mean([x[0] for x in noise_degree_list]) # [score, page_id]\n",
    "std = np.std([x[0] for x in noise_degree_list])\n",
    "\n",
    "threshold = mean + 2 * std  # 假设以均值加上 2 个标准差为阈值\n",
    "\n",
    "print(\"阈值为:\", threshold)"
   ]
  },
  {
   "cell_type": "code",
   "execution_count": 17,
   "metadata": {},
   "outputs": [
    {
     "name": "stdout",
     "output_type": "stream",
     "text": [
      "[[170.15055724288914, 1227], [164.5222769245353, 1237], [156.1477615585785, 1248], [155.28040011461124, 1589], [167.16732255794625, 1795], [149.83345522878918, 1807], [180.44173409310898, 1808], [151.09658098075704, 1819], [172.2003736764471, 1823], [168.8547616232507, 1825], [160.9855271801569, 1929], [164.31583327801584, 1952], [152.85541745482175, 1959], [168.13046948775514, 1960], [156.3400417119515, 1981], [181.1601192693385, 1985], [164.40793430055476, 2053], [158.24161079753205, 2640], [150.2809436790253, 2645], [158.59871917495906, 2648], [171.0168588873617, 2659], [162.15008458969865, 2668], [151.6288481277399, 2670], [204.0976893677294, 2671], [154.82685056598433, 2673], [158.53200893223263, 2674], [158.1972586211703, 2676], [179.1962876112759, 2677], [149.48512556773133, 2682], [179.48253346623315, 2691], [157.4039444673781, 2693], [151.82749931341766, 2705], [159.47764467700762, 2713], [176.70376706519323, 2724], [155.5913562657863, 2725], [191.52924968421328, 2726], [151.36747447413762, 2736], [179.8179059794255, 2738], [158.42113621820135, 2739], [158.27901609062363, 2744], [156.96914236908034, 2745], [155.3720468759385, 2749], [170.57905351660224, 2750], [198.58634302951444, 2751], [190.01842534491155, 2752], [192.77868363517854, 2753], [234.17537129240523, 2762], [244.96830845002975, 2763], [168.1640279492059, 2771], [154.76066737646312, 2773], [149.78031291821415, 2774], [153.033491077242, 2775], [175.02529103809795, 2779], [183.79260308946775, 2782], [182.14611823840121, 2784], [193.69233728073866, 2785], [152.77106744644604, 2786], [252.90064792321147, 2787]]\n",
      "9\n"
     ]
    }
   ],
   "source": [
    "# 拆分数据集\n",
    "# 1. 先看超出阈值的有多少个\n",
    "print([x for x in noise_degree_list if x[0] > 149])\n",
    "print(len([x for x in noise_degree_list if x[0] > 188]))\n"
   ]
  },
  {
   "cell_type": "code",
   "execution_count": 32,
   "metadata": {},
   "outputs": [
    {
     "name": "stdout",
     "output_type": "stream",
     "text": [
      "[[124, 2664], [134, 1824], [134, 2687], [138, 2665], [139, 2706], [140, 1863], [143, 1860], [144, 1862], [144, 2661], [145, 1831], [145, 2688], [145, 2766], [149, 1693], [151, 1250], [153, 1249], [153, 2658], [155, 2675], [155, 2692], [156, 2018], [156, 2649], [156, 2723], [157, 2689], [157, 2720], [158, 1700], [158, 1701], [159, 2066], [159, 2715], [160, 1692], [160, 2639], [161, 1820], [161, 1822], [161, 2686], [162, 2767], [163, 1590], [163, 1643], [163, 2663], [163, 2704], [164, 1226], [164, 2778], [165, 2644], [165, 2760], [165, 2761], [166, 2053], [166, 2651], [167, 1300], [167, 1948], [167, 2772], [169, 1247], [169, 1699], [169, 1966], [169, 2764], [170, 1299], [170, 2045], [170, 2729], [171, 2051], [171, 2052], [171, 2667], [171, 2730], [172, 1826], [172, 2654], [172, 2660], [172, 2662], [173, 1821], [173, 1861], [173, 1953], [174, 1747], [174, 2769], [175, 2046], [175, 2067], [175, 2672], [175, 2768], [175, 2790], [176, 1686], [176, 1949], [176, 1980], [176, 2779], [177, 1236], [177, 2656], [177, 2684], [177, 2770], [178, 1248], [178, 1687], [178, 1823], [178, 2666], [179, 2680], [180, 1591], [181, 1808], [181, 2681], [181, 2683], [181, 2690], [181, 2791], [182, 1298], [182, 2646], [182, 2707], [182, 2732], [182, 2776], [183, 2035], [183, 2647], [184, 2747], [184, 2757], [185, 2673], [185, 2777], [186, 1742], [186, 2013], [187, 2725], [188, 1951], [188, 2714], [188, 2717], [189, 2674], [189, 2756], [190, 2036], [190, 2641], [191, 1642], [191, 1819], [191, 1967], [191, 1981], [192, 1950], [193, 2044], [193, 2676], [193, 2685], [193, 2705], [194, 2765], [195, 1927], [195, 2755], [196, 1743], [196, 1926], [196, 2679], [196, 2759], [197, 1592], [197, 2014], [197, 2017], [197, 2774], [198, 1227], [198, 1702], [198, 1959], [198, 2721], [198, 2746], [199, 1588], [199, 2015], [199, 2722], [199, 2736], [200, 1930], [200, 2745], [201, 2047], [201, 2655], [201, 2670], [201, 2724], [202, 1323], [202, 1324], [202, 1794], [202, 2716], [202, 2733], [204, 2783], [205, 1745], [205, 2712], [205, 2737], [206, 2016], [206, 2645], [206, 2786], [208, 2780], [209, 1952], [210, 2648], [210, 2678], [210, 2739], [210, 2748], [211, 1807], [211, 2652], [211, 2731], [212, 1984], [212, 2677], [213, 2019], [213, 2693], [213, 2789], [215, 1237], [215, 2657], [215, 2744], [216, 1593], [216, 2758], [216, 2781], [217, 1795], [217, 2659], [218, 2668], [219, 1931], [222, 1929], [222, 2020], [222, 2682], [222, 2788], [223, 1825], [225, 2653], [225, 2773], [226, 2749], [226, 2754], [227, 2640], [227, 2691], [231, 2726], [231, 2750], [233, 2785], [239, 2775], [239, 2784], [240, 2738], [242, 2650], [247, 2751], [249, 2752], [251, 1960], [251, 2771], [252, 2753], [264, 1589], [266, 2671], [270, 1985], [270, 2782], [272, 2713], [280, 2762], [298, 2763], [339, 2787]]\n",
      "239\n"
     ]
    }
   ],
   "source": [
    "# 想要全体的分数倒序，然后\n",
    "noise_degree_list = [[int(x[0]), x[1]] for x in noise_degree_list]\n",
    "noise_degree_list.sort(key=lambda x: x[0])\n",
    "print(noise_degree_list)\n",
    "for item in noise_degree_list:\n",
    "    # print(item[1])\n",
    "    if item[1] == 2784:\n",
    "        print(item[0])\n",
    "        break"
   ]
  },
  {
   "cell_type": "code",
   "execution_count": 24,
   "metadata": {},
   "outputs": [
    {
     "data": {
      "text/plain": [
       "(65, 214)"
      ]
     },
     "execution_count": 24,
     "metadata": {},
     "output_type": "execute_result"
    }
   ],
   "source": [
    "split_ratio = 0.3\n",
    "skip_index = int(len(noise_degree_list)*(1-split_ratio))\n",
    "score_skip_data_page = [x[1] for x in noise_degree_list][skip_index:]\n",
    "len(score_skip_data_page), len(noise_degree_list)"
   ]
  },
  {
   "cell_type": "code",
   "execution_count": 20,
   "metadata": {},
   "outputs": [
    {
     "name": "stdout",
     "output_type": "stream",
     "text": [
      "65\n",
      "149\n"
     ]
    }
   ],
   "source": [
    "# 拆分数据集\n",
    "condition = eye_tracking_data['page_id'].isin(score_skip_data_page)\n",
    "skip_data = eye_tracking_data[condition]\n",
    "not_skip_data = eye_tracking_data[~condition]\n",
    "print(len(skip_data))\n",
    "print(len(not_skip_data))\n",
    "skip_data.to_csv('data/final_data/skip_data.csv')\n",
    "not_skip_data.to_csv('data/final_data/not_skip_data.csv')"
   ]
  },
  {
   "cell_type": "markdown",
   "metadata": {},
   "source": [
    "# 生成单词level-fixation结合的数据集\n",
    "* 主要是取交集"
   ]
  },
  {
   "cell_type": "code",
   "execution_count": 21,
   "metadata": {},
   "outputs": [],
   "source": [
    "word_feature_with_correct = pd.read_csv('data/final_data/all-word-feature-20240723-103-with-correct.csv')\n",
    "word_feature_without_correct = pd.read_csv('data/final_data/all-word-feature-20240723-103.csv')"
   ]
  },
  {
   "cell_type": "code",
   "execution_count": 22,
   "metadata": {},
   "outputs": [],
   "source": [
    "word_feature_with_correct[word_feature_with_correct['page_id'].isin(score_skip_data_page)].to_csv('data/final_data/word-feature-with-correct-skip.csv')\n",
    "word_feature_with_correct[~word_feature_with_correct['page_id'].isin(score_skip_data_page)].to_csv('data/final_data/word-feature-with-correct-not-skip.csv')\n",
    "word_feature_without_correct[word_feature_without_correct['page_id'].isin(score_skip_data_page)].to_csv('data/final_data/word-feature-without-correct-skip.csv')\n",
    "word_feature_without_correct[~word_feature_without_correct['page_id'].isin(score_skip_data_page)].to_csv('data/final_data/word-feature-without-correct-not-skip.csv')"
   ]
  }
 ],
 "metadata": {
  "kernelspec": {
   "display_name": "base",
   "language": "python",
   "name": "python3"
  },
  "language_info": {
   "codemirror_mode": {
    "name": "ipython",
    "version": 3
   },
   "file_extension": ".py",
   "mimetype": "text/x-python",
   "name": "python",
   "nbconvert_exporter": "python",
   "pygments_lexer": "ipython3",
   "version": "3.12.2"
  }
 },
 "nbformat": 4,
 "nbformat_minor": 2
}
