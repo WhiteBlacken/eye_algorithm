{
 "cells": [
  {
   "cell_type": "code",
   "execution_count": 2,
   "metadata": {},
   "outputs": [],
   "source": [
    "%load_ext autoreload\n",
    "%autoreload 2"
   ]
  },
  {
   "cell_type": "code",
   "execution_count": 3,
   "metadata": {},
   "outputs": [
    {
     "name": "stdout",
     "output_type": "stream",
     "text": [
      "Using device: cuda\n"
     ]
    }
   ],
   "source": [
    "import torch\n",
    "device = torch.device(\"cuda\" if torch.cuda.is_available() else \"cpu\")\n",
    "print(f\"Using device: {device}\")"
   ]
  },
  {
   "cell_type": "code",
   "execution_count": 6,
   "metadata": {},
   "outputs": [],
   "source": [
    "from torch.utils.data import random_split\n",
    "from torch.utils.data import DataLoader\n",
    "from data_process import TextEyeTrackingDataset\n",
    "import numpy as np\n",
    "\n",
    "# torch.manual_seed(seed)\n",
    "# np.random.seed(seed)\n",
    "\n",
    "# 加载数据\n",
    "dataset = TextEyeTrackingDataset('data/skip_data.csv')\n",
    "batch_size = 1\n",
    "\n",
    "# 假设dataset是你已经加载的完整数据集\n",
    "train_size = int(len(dataset) * 0.8)  # 以80%的数据作为训练集\n",
    "test_size = len(dataset) - train_size  # 剩余20%的数据作为测试集\n",
    "train_dataset, test_dataset = random_split(dataset, [train_size, test_size])\n",
    "\n",
    "train_loader = DataLoader(train_dataset, batch_size=batch_size, shuffle=True)\n",
    "test_loader = DataLoader(test_dataset, batch_size=batch_size, shuffle=False)"
   ]
  },
  {
   "cell_type": "code",
   "execution_count": 7,
   "metadata": {},
   "outputs": [
    {
     "name": "stdout",
     "output_type": "stream",
     "text": [
      "-----Epoch 1-------\n",
      "Train metric in Epoch 1, Loss: 0.010270447470247746, Accuracy: 0.99, AUC: 0.5, Precision: 0.0, Recall: 0.0, F1-score: 0\n",
      "Test metric in Epoch 1, Loss: 0.03597535938024521, Accuracy: 1.0, AUC: 0.5, Precision: 0.0, Recall: 0.0, F1-score: 0\n",
      "-----Epoch 2-------\n",
      "Train metric in Epoch 2, Loss: 0.009896337054669857, Accuracy: 0.99, AUC: 0.5, Precision: 0.0, Recall: 0.0, F1-score: 0\n",
      "Test metric in Epoch 2, Loss: 0.03534048795700073, Accuracy: 1.0, AUC: 0.5, Precision: 0.0, Recall: 0.0, F1-score: 0\n",
      "-----Epoch 3-------\n",
      "Train metric in Epoch 3, Loss: 0.012131867930293083, Accuracy: 0.96, AUC: 0.5, Precision: 0.0, Recall: 0.0, F1-score: 0\n",
      "Test metric in Epoch 3, Loss: 0.03496507927775383, Accuracy: 1.0, AUC: 0.5, Precision: 0.0, Recall: 0.0, F1-score: 0\n",
      "-----Epoch 4-------\n",
      "Train metric in Epoch 4, Loss: 0.01067560724914074, Accuracy: 0.98, AUC: 0.5, Precision: 0.0, Recall: 0.0, F1-score: 0\n",
      "Test metric in Epoch 4, Loss: 0.03465520963072777, Accuracy: 1.0, AUC: 0.5, Precision: 0.0, Recall: 0.0, F1-score: 0\n",
      "-----Epoch 5-------\n",
      "Train metric in Epoch 5, Loss: 0.008734568022191525, Accuracy: 1.0, AUC: 0.5, Precision: 0.0, Recall: 0.0, F1-score: 0\n",
      "Test metric in Epoch 5, Loss: 0.03413079306483269, Accuracy: 1.0, AUC: 0.5, Precision: 0.0, Recall: 0.0, F1-score: 0\n",
      "-----Epoch 6-------\n",
      "Train metric in Epoch 6, Loss: 0.009336325339972973, Accuracy: 0.99, AUC: 0.5, Precision: 0.0, Recall: 0.0, F1-score: 0\n",
      "Test metric in Epoch 6, Loss: 0.033856023102998734, Accuracy: 1.0, AUC: 0.5, Precision: 0.0, Recall: 0.0, F1-score: 0\n",
      "-----Epoch 7-------\n",
      "Train metric in Epoch 7, Loss: 0.011880606412887573, Accuracy: 0.96, AUC: 0.5, Precision: 0.0, Recall: 0.0, F1-score: 0\n",
      "Test metric in Epoch 7, Loss: 0.03332095220685005, Accuracy: 1.0, AUC: 0.5, Precision: 0.0, Recall: 0.0, F1-score: 0\n",
      "-----Epoch 8-------\n",
      "Train metric in Epoch 8, Loss: 0.008384396322071552, Accuracy: 1.0, AUC: 0.5, Precision: 0.0, Recall: 0.0, F1-score: 0\n",
      "Test metric in Epoch 8, Loss: 0.032959721982479095, Accuracy: 1.0, AUC: 0.5, Precision: 0.0, Recall: 0.0, F1-score: 0\n",
      "-----Epoch 9-------\n",
      "Train metric in Epoch 9, Loss: 0.009554030373692513, Accuracy: 0.99, AUC: 0.5, Precision: 0.0, Recall: 0.0, F1-score: 0\n",
      "Test metric in Epoch 9, Loss: 0.032716065645217896, Accuracy: 1.0, AUC: 0.5, Precision: 0.0, Recall: 0.0, F1-score: 0\n",
      "-----Epoch 10-------\n",
      "Train metric in Epoch 10, Loss: 0.010813995264470577, Accuracy: 0.97, AUC: 0.5, Precision: 0.0, Recall: 0.0, F1-score: 0\n",
      "Test metric in Epoch 10, Loss: 0.032422035932540894, Accuracy: 1.0, AUC: 0.5, Precision: 0.0, Recall: 0.0, F1-score: 0\n",
      "-----Epoch 11-------\n",
      "Train metric in Epoch 11, Loss: 0.009471558965742588, Accuracy: 0.99, AUC: 0.5, Precision: 0.0, Recall: 0.0, F1-score: 0\n",
      "Test metric in Epoch 11, Loss: 0.03205443173646927, Accuracy: 1.0, AUC: 0.5, Precision: 0.0, Recall: 0.0, F1-score: 0\n",
      "-----Epoch 12-------\n",
      "Train metric in Epoch 12, Loss: 0.009475549682974815, Accuracy: 0.99, AUC: 0.5, Precision: 0.0, Recall: 0.0, F1-score: 0\n",
      "Test metric in Epoch 12, Loss: 0.03185641020536423, Accuracy: 1.0, AUC: 0.5, Precision: 0.0, Recall: 0.0, F1-score: 0\n",
      "-----Epoch 13-------\n",
      "Train metric in Epoch 13, Loss: 0.010362189263105392, Accuracy: 0.98, AUC: 0.5, Precision: 0.0, Recall: 0.0, F1-score: 0\n",
      "Test metric in Epoch 13, Loss: 0.031811028718948364, Accuracy: 1.0, AUC: 0.5, Precision: 0.0, Recall: 0.0, F1-score: 0\n",
      "-----Epoch 14-------\n",
      "Train metric in Epoch 14, Loss: 0.01179265696555376, Accuracy: 0.96, AUC: 0.5, Precision: 0.0, Recall: 0.0, F1-score: 0\n",
      "Test metric in Epoch 14, Loss: 0.031561680138111115, Accuracy: 1.0, AUC: 0.5, Precision: 0.0, Recall: 0.0, F1-score: 0\n",
      "-----Epoch 15-------\n",
      "Train metric in Epoch 15, Loss: 0.009731356054544449, Accuracy: 0.98, AUC: 0.5, Precision: 0.0, Recall: 0.0, F1-score: 0\n",
      "Test metric in Epoch 15, Loss: 0.03146204352378845, Accuracy: 1.0, AUC: 0.5, Precision: 0.0, Recall: 0.0, F1-score: 0\n",
      "-----Epoch 16-------\n",
      "Train metric in Epoch 16, Loss: 0.009872996248304844, Accuracy: 0.98, AUC: 0.5, Precision: 0.0, Recall: 0.0, F1-score: 0\n",
      "Test metric in Epoch 16, Loss: 0.03133159875869751, Accuracy: 1.0, AUC: 0.5, Precision: 0.0, Recall: 0.0, F1-score: 0\n",
      "-----Epoch 17-------\n",
      "Train metric in Epoch 17, Loss: 0.007941000163555145, Accuracy: 1.0, AUC: 0.5, Precision: 0.0, Recall: 0.0, F1-score: 0\n",
      "Test metric in Epoch 17, Loss: 0.031108682975172997, Accuracy: 1.0, AUC: 0.5, Precision: 0.0, Recall: 0.0, F1-score: 0\n",
      "-----Epoch 18-------\n",
      "Train metric in Epoch 18, Loss: 0.00959560927003622, Accuracy: 0.98, AUC: 0.5, Precision: 0.0, Recall: 0.0, F1-score: 0\n",
      "Test metric in Epoch 18, Loss: 0.030996086075901985, Accuracy: 1.0, AUC: 0.5, Precision: 0.0, Recall: 0.0, F1-score: 0\n",
      "-----Epoch 19-------\n",
      "Train metric in Epoch 19, Loss: 0.011452853679656982, Accuracy: 0.96, AUC: 0.5, Precision: 0.0, Recall: 0.0, F1-score: 0\n",
      "Test metric in Epoch 19, Loss: 0.030923420563340187, Accuracy: 1.0, AUC: 0.5, Precision: 0.0, Recall: 0.0, F1-score: 0\n",
      "-----Epoch 20-------\n",
      "Train metric in Epoch 20, Loss: 0.009999814443290234, Accuracy: 0.98, AUC: 0.5, Precision: 0.0, Recall: 0.0, F1-score: 0\n",
      "Test metric in Epoch 20, Loss: 0.030907994136214256, Accuracy: 1.0, AUC: 0.5, Precision: 0.0, Recall: 0.0, F1-score: 0\n",
      "-----Epoch 21-------\n",
      "Train metric in Epoch 21, Loss: 0.010399680584669113, Accuracy: 0.97, AUC: 0.5, Precision: 0.0, Recall: 0.0, F1-score: 0\n",
      "Test metric in Epoch 21, Loss: 0.030797455459833145, Accuracy: 1.0, AUC: 0.5, Precision: 0.0, Recall: 0.0, F1-score: 0\n",
      "-----Epoch 22-------\n",
      "Train metric in Epoch 22, Loss: 0.010313478298485279, Accuracy: 0.97, AUC: 0.5, Precision: 0.0, Recall: 0.0, F1-score: 0\n",
      "Test metric in Epoch 22, Loss: 0.030775051563978195, Accuracy: 1.0, AUC: 0.5, Precision: 0.0, Recall: 0.0, F1-score: 0\n",
      "-----Epoch 23-------\n",
      "Train metric in Epoch 23, Loss: 0.009612999856472015, Accuracy: 0.98, AUC: 0.5, Precision: 0.0, Recall: 0.0, F1-score: 0\n",
      "Test metric in Epoch 23, Loss: 0.030634606257081032, Accuracy: 1.0, AUC: 0.5, Precision: 0.0, Recall: 0.0, F1-score: 0\n",
      "-----Epoch 24-------\n",
      "Train metric in Epoch 24, Loss: 0.007789404131472111, Accuracy: 1.0, AUC: 0.5, Precision: 0.0, Recall: 0.0, F1-score: 0\n",
      "Test metric in Epoch 24, Loss: 0.030574532225728035, Accuracy: 1.0, AUC: 0.5, Precision: 0.0, Recall: 0.0, F1-score: 0\n",
      "-----Epoch 25-------\n",
      "Train metric in Epoch 25, Loss: 0.010429215617477894, Accuracy: 0.96, AUC: 0.63, Precision: 0.29, Recall: 0.29, F1-score: 0.29\n",
      "Test metric in Epoch 25, Loss: 0.030504824593663216, Accuracy: 1.0, AUC: 0.5, Precision: 0.0, Recall: 0.0, F1-score: 0\n",
      "-----Epoch 26-------\n",
      "Train metric in Epoch 26, Loss: 0.008818654343485832, Accuracy: 0.99, AUC: 0.5, Precision: 0.0, Recall: 0.0, F1-score: 0\n",
      "Test metric in Epoch 26, Loss: 0.0304169412702322, Accuracy: 1.0, AUC: 0.5, Precision: 0.0, Recall: 0.0, F1-score: 0\n",
      "-----Epoch 27-------\n",
      "Train metric in Epoch 27, Loss: 0.010214834474027157, Accuracy: 0.95, AUC: 0.49, Precision: 0.0, Recall: 0.0, F1-score: 0\n",
      "Test metric in Epoch 27, Loss: 0.030376005917787552, Accuracy: 1.0, AUC: 0.5, Precision: 0.0, Recall: 0.0, F1-score: 0\n",
      "-----Epoch 28-------\n",
      "Train metric in Epoch 28, Loss: 0.009093242697417736, Accuracy: 0.98, AUC: 0.5, Precision: 0.0, Recall: 0.0, F1-score: 0\n",
      "Test metric in Epoch 28, Loss: 0.030296690762043, Accuracy: 1.0, AUC: 0.5, Precision: 0.0, Recall: 0.0, F1-score: 0\n",
      "-----Epoch 29-------\n",
      "Train metric in Epoch 29, Loss: 0.007659340742975473, Accuracy: 1.0, AUC: 0.5, Precision: 0.0, Recall: 0.0, F1-score: 0\n",
      "Test metric in Epoch 29, Loss: 0.03025323711335659, Accuracy: 1.0, AUC: 0.5, Precision: 0.0, Recall: 0.0, F1-score: 0\n",
      "-----Epoch 30-------\n",
      "Train metric in Epoch 30, Loss: 0.007698359899222851, Accuracy: 1.0, AUC: 0.5, Precision: 0.0, Recall: 0.0, F1-score: 0\n",
      "Test metric in Epoch 30, Loss: 0.030201001092791557, Accuracy: 1.0, AUC: 0.5, Precision: 0.0, Recall: 0.0, F1-score: 0\n"
     ]
    }
   ],
   "source": [
    "import torch.nn as nn\n",
    "from model import MultiModalModel\n",
    "from train_and_evaluate import train_model\n",
    "import warnings\n",
    "from sklearn import exceptions\n",
    "\n",
    "# 忽略特定类型的警告\n",
    "warnings.filterwarnings(\"ignore\", category=exceptions.UndefinedMetricWarning)\n",
    "\n",
    "\n",
    "hidden_dim = 128  # LSTM隐藏层维度\n",
    "output_dim = 1  # 输出维度，二分类问题\n",
    "\n",
    "model = MultiModalModel(hidden_dim, output_dim).to(device)\n",
    "optimizer = torch.optim.AdamW(model.parameters(), lr=0.00001)\n",
    "\n",
    "pos_weight = torch.tensor([20])  # 大于1的值，表示正类相对于负类的权重\n",
    "criterion = nn.BCEWithLogitsLoss(pos_weight=pos_weight).to(device)\n",
    "\n",
    "tensorboard_dir = 'tensorlog/all'\n",
    "# 训练模型\n",
    "train_model(model, train_loader, test_loader, optimizer, criterion, device, tensorboard_dir, epochs=30)"
   ]
  },
  {
   "cell_type": "code",
   "execution_count": null,
   "metadata": {},
   "outputs": [],
   "source": [
    "!tensorboard --logdir='tensorlog/all'"
   ]
  }
 ],
 "metadata": {
  "kernelspec": {
   "display_name": "base",
   "language": "python",
   "name": "python3"
  },
  "language_info": {
   "codemirror_mode": {
    "name": "ipython",
    "version": 3
   },
   "file_extension": ".py",
   "mimetype": "text/x-python",
   "name": "python",
   "nbconvert_exporter": "python",
   "pygments_lexer": "ipython3",
   "version": "3.8.10"
  }
 },
 "nbformat": 4,
 "nbformat_minor": 2
}
