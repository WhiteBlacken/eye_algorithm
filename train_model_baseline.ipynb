{
 "cells": [
  {
   "cell_type": "code",
   "execution_count": null,
   "metadata": {},
   "outputs": [],
   "source": [
    "%load_ext autoreload\n",
    "%autoreload 2"
   ]
  },
  {
   "cell_type": "code",
   "execution_count": 2,
   "metadata": {},
   "outputs": [
    {
     "name": "stdout",
     "output_type": "stream",
     "text": [
      "Using device: cuda\n"
     ]
    }
   ],
   "source": [
    "import torch\n",
    "device = torch.device(\"cuda\" if torch.cuda.is_available() else \"cpu\")\n",
    "print(f\"Using device: {device}\")"
   ]
  },
  {
   "cell_type": "code",
   "execution_count": 17,
   "metadata": {},
   "outputs": [
    {
     "name": "stdout",
     "output_type": "stream",
     "text": [
      "102\n",
      "26\n"
     ]
    }
   ],
   "source": [
    "from torch.utils.data import random_split\n",
    "from torch.utils.data import DataLoader\n",
    "from data_process import TextEyeTrackingDataset\n",
    "import numpy as np\n",
    "\n",
    "# torch.manual_seed(seed)\n",
    "# np.random.seed(seed)\n",
    "\n",
    "# 加载数据\n",
    "dataset = TextEyeTrackingDataset('data/not_skip_data.csv')\n",
    "batch_size = 1\n",
    "\n",
    "# 假设dataset是你已经加载的完整数据集\n",
    "train_size = int(len(dataset) * 0.8)  # 以80%的数据作为训练集\n",
    "test_size = len(dataset) - train_size  # 剩余20%的数据作为测试集\n",
    "train_dataset, test_dataset = random_split(dataset, [train_size, test_size])\n",
    "\n",
    "train_loader = DataLoader(train_dataset, batch_size=batch_size, shuffle=True)\n",
    "test_loader = DataLoader(test_dataset, batch_size=batch_size, shuffle=False)\n",
    "print(len(train_loader))\n",
    "print(len(test_loader))"
   ]
  },
  {
   "cell_type": "code",
   "execution_count": null,
   "metadata": {},
   "outputs": [],
   "source": [
    "import torch.nn as nn\n",
    "from model import MultiModalModel\n",
    "from train_and_evaluate import train_model\n",
    "import warnings\n",
    "from sklearn import exceptions\n",
    "\n",
    "# 忽略特定类型的警告\n",
    "warnings.filterwarnings(\"ignore\", category=exceptions.UndefinedMetricWarning)\n",
    "\n",
    "\n",
    "hidden_dim = 128  # LSTM隐藏层维度\n",
    "output_dim = 1  # 输出维度，二分类问题\n",
    "learning_rate = 0.1\n",
    "\n",
    "model = MultiModalModel(hidden_dim, output_dim).to(device)\n",
    "# optimizer = torch.optim.AdamW(model.parameters(), lr=learning_rate)\n",
    "optimizer = torch.optim.AdamW(filter(lambda p: p.requires_grad, model.parameters()), lr=learning_rate)\n",
    "\n",
    "pos_weight = torch.tensor([30])  # 大于1的值，表示正类相对于负类的权重\n",
    "criterion = nn.BCEWithLogitsLoss(pos_weight=pos_weight).to(device)\n",
    "\n",
    "tensorboard_dir = 'tensorlog/after/not-skip-data/'\n",
    "# 训练模型\n",
    "train_model(model, train_loader, test_loader, optimizer, criterion, device, tensorboard_dir, epochs=50)"
   ]
  },
  {
   "cell_type": "code",
   "execution_count": null,
   "metadata": {},
   "outputs": [],
   "source": [
    "!tensorboard --logdir='tensorlog/all'"
   ]
  }
 ],
 "metadata": {
  "kernelspec": {
   "display_name": "Python 3 (ipykernel)",
   "language": "python",
   "name": "python3"
  },
  "language_info": {
   "codemirror_mode": {
    "name": "ipython",
    "version": 3
   },
   "file_extension": ".py",
   "mimetype": "text/x-python",
   "name": "python",
   "nbconvert_exporter": "python",
   "pygments_lexer": "ipython3",
   "version": "3.11.8"
  }
 },
 "nbformat": 4,
 "nbformat_minor": 4
}
