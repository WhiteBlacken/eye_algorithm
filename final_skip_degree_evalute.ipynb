{
 "cells": [
  {
   "cell_type": "code",
   "execution_count": 3,
   "metadata": {},
   "outputs": [],
   "source": [
    "import pandas as pd\n",
    "eye_tracking_data = pd.read_csv('data/raw_data_0317.csv')"
   ]
  },
  {
   "cell_type": "code",
   "execution_count": 4,
   "metadata": {},
   "outputs": [
    {
     "data": {
      "text/html": [
       "<div>\n",
       "<style scoped>\n",
       "    .dataframe tbody tr th:only-of-type {\n",
       "        vertical-align: middle;\n",
       "    }\n",
       "\n",
       "    .dataframe tbody tr th {\n",
       "        vertical-align: top;\n",
       "    }\n",
       "\n",
       "    .dataframe thead th {\n",
       "        text-align: right;\n",
       "    }\n",
       "</style>\n",
       "<table border=\"1\" class=\"dataframe\">\n",
       "  <thead>\n",
       "    <tr style=\"text-align: right;\">\n",
       "      <th></th>\n",
       "      <th>Unnamed: 0</th>\n",
       "      <th>uid</th>\n",
       "      <th>page_id</th>\n",
       "      <th>text_sequences</th>\n",
       "      <th>eye_tracking_sequences</th>\n",
       "      <th>labels</th>\n",
       "    </tr>\n",
       "  </thead>\n",
       "  <tbody>\n",
       "    <tr>\n",
       "      <th>0</th>\n",
       "      <td>0</td>\n",
       "      <td>ys</td>\n",
       "      <td>1226</td>\n",
       "      <td>[[0, 'A', 330, 95, 32, 52], [1, 'judge', 362, ...</td>\n",
       "      <td>[[499, 499, 15], [499, 497, 10470], [497, 490,...</td>\n",
       "      <td>[0, 0, 0, 0, 0, 0, 0, 0, 0, 0, 0, 0, 0, 0, 0, ...</td>\n",
       "    </tr>\n",
       "  </tbody>\n",
       "</table>\n",
       "</div>"
      ],
      "text/plain": [
       "   Unnamed: 0 uid  page_id                                     text_sequences  \\\n",
       "0           0  ys     1226  [[0, 'A', 330, 95, 32, 52], [1, 'judge', 362, ...   \n",
       "\n",
       "                              eye_tracking_sequences  \\\n",
       "0  [[499, 499, 15], [499, 497, 10470], [497, 490,...   \n",
       "\n",
       "                                              labels  \n",
       "0  [0, 0, 0, 0, 0, 0, 0, 0, 0, 0, 0, 0, 0, 0, 0, ...  "
      ]
     },
     "execution_count": 4,
     "metadata": {},
     "output_type": "execute_result"
    }
   ],
   "source": [
    "# 查看data的结构\n",
    "eye_tracking_data.head(1)"
   ]
  },
  {
   "cell_type": "markdown",
   "metadata": {},
   "source": [
    "# 跳读幅度"
   ]
  },
  {
   "cell_type": "code",
   "execution_count": 11,
   "metadata": {},
   "outputs": [],
   "source": [
    "import math\n",
    "\n",
    "class EyeTrackingDataEvaluate:\n",
    "    def __init__(self, eye_tracking_data_list, window_size) -> None:\n",
    "        self.data_list = eye_tracking_data_list # [x, y, timestamp, page_id]\n",
    "        self.window_size = window_size\n",
    "\n",
    "    def RmsScore(self) -> float:\n",
    "        res = 0.0\n",
    "        for i in range(len(self.data_list)):\n",
    "            if i == 0:\n",
    "                continue\n",
    "            diff_x = self.data_list[i][0]-self.data_list[i-1][0]\n",
    "            diff_y = self.data_list[i][1]-self.data_list[i-1][1]\n",
    "            res += pow(diff_x, 2) + pow(diff_y, 2)\n",
    "        res = math.sqrt(res/len(self.data_list))\n",
    "        return res\n",
    "\n",
    "    def STDWindowScore(self) -> float:\n",
    "        res = 0.0\n",
    "        dataCluster = [] # 记录聚合了的眼动\n",
    "        for i in range(len(self.data_list)):\n",
    "            if len(dataCluster) == 0:\n",
    "                dataCluster.append(self.data_list[i])\n",
    "            else:\n",
    "                if self.data_list[i][2] - dataCluster[0][2] > self.window_size:\n",
    "                    res += self.SquareVal(dataCluster)\n",
    "                    dataCluster = []\n",
    "                else:\n",
    "                    dataCluster.append(self.data_list[i])\n",
    "            if i == len(self.data_list) - 1 and len(dataCluster) > 0:\n",
    "                res += self.SquareVal(dataCluster)\n",
    "                dataCluster = []\n",
    "        res = math.sqrt(res/len(self.data_list))\n",
    "        return res\n",
    "\n",
    "    def SquareVal(self, data_list):\n",
    "        res = 0\n",
    "        avg_x = sum([data[0] for data in data_list]) / len(data_list)\n",
    "        avg_y = sum([data[1] for data in data_list]) / len(data_list)\n",
    "        for data in data_list:\n",
    "            res += pow(data[0] - avg_x, 2) + pow(data[1] - avg_y, 2)\n",
    "        return res\n",
    "\n",
    "    def FinalScore(self) -> int:\n",
    "        rmsScore = self.RmsScore()\n",
    "        stdScore = self.STDWindowScore()\n",
    "        finalScore = math.sqrt(pow(rmsScore, 2) + pow(stdScore, 2))\n",
    "        # print(f\"finalScore={finalScore}, rmsScore={rmsScore}, stdScore={stdScore}\")\n",
    "        return finalScore"
   ]
  },
  {
   "cell_type": "code",
   "execution_count": 12,
   "metadata": {},
   "outputs": [],
   "source": [
    "class EyeTrackingData:\n",
    "    def __init__(self, eye_tracking_sequences, page_id) -> None:\n",
    "        self.eye_tracking_sequences = eye_tracking_sequences\n",
    "        self.page_id = page_id"
   ]
  },
  {
   "cell_type": "code",
   "execution_count": 13,
   "metadata": {},
   "outputs": [
    {
     "name": "stdout",
     "output_type": "stream",
     "text": [
      "214\n"
     ]
    }
   ],
   "source": [
    "# 构造数据\n",
    "eye_tracking_data_list = [] # page维度\n",
    "for idx, row in eye_tracking_data.iterrows():\n",
    "    eye_tracking_data_list.append(EyeTrackingData(eval(row['eye_tracking_sequences']), row['page_id']))\n",
    "print(len(eye_tracking_data_list))\n"
   ]
  },
  {
   "cell_type": "code",
   "execution_count": 14,
   "metadata": {},
   "outputs": [
    {
     "name": "stdout",
     "output_type": "stream",
     "text": [
      "214\n"
     ]
    }
   ],
   "source": [
    "# 组装数据\n",
    "noise_degree_list = []\n",
    "for data in eye_tracking_data_list:\n",
    "    score = EyeTrackingDataEvaluate(eye_tracking_data_list=data.eye_tracking_sequences, \n",
    "                        window_size=500).FinalScore()\n",
    "    noise_degree_list.append([score, data.page_id])\n",
    "print(len(noise_degree_list))"
   ]
  },
  {
   "cell_type": "code",
   "execution_count": 15,
   "metadata": {},
   "outputs": [
    {
     "data": {
      "image/png": "[encoded data removed]",
      "text/plain": [
       "<Figure size 500x500 with 1 Axes>"
      ]
     },
     "metadata": {},
     "output_type": "display_data"
    }
   ],
   "source": [
    "import seaborn as sns\n",
    "import matplotlib.pyplot as plt\n",
    "\n",
    "sns.displot([x[0] for x in noise_degree_list], kde=True)  # kde=True 表示同时绘制核密度估计图\n",
    "plt.xlabel('Value')\n",
    "plt.ylabel('Frequency')\n",
    "plt.title('Histogram and KDE Plot')\n",
    "plt.show()"
   ]
  },
  {
   "cell_type": "code",
   "execution_count": 16,
   "metadata": {},
   "outputs": [
    {
     "name": "stdout",
     "output_type": "stream",
     "text": [
      "阈值为: 188.63487736840406\n"
     ]
    }
   ],
   "source": [
    "# 确定异常的阈值\n",
    "import numpy as np\n",
    "\n",
    "mean = np.mean([x[0] for x in noise_degree_list]) # [score, page_id]\n",
    "std = np.std([x[0] for x in noise_degree_list])\n",
    "\n",
    "threshold = mean + 2 * std  # 假设以均值加上 2 个标准差为阈值\n",
    "\n",
    "print(\"阈值为:\", threshold)"
   ]
  },
  {
   "cell_type": "code",
   "execution_count": 17,
   "metadata": {},
   "outputs": [
    {
     "name": "stdout",
     "output_type": "stream",
     "text": [
      "[[170.15055724288914, 1227], [164.5222769245353, 1237], [156.1477615585785, 1248], [155.28040011461124, 1589], [167.16732255794625, 1795], [149.83345522878918, 1807], [180.44173409310898, 1808], [151.09658098075704, 1819], [172.2003736764471, 1823], [168.8547616232507, 1825], [160.9855271801569, 1929], [164.31583327801584, 1952], [152.85541745482175, 1959], [168.13046948775514, 1960], [156.3400417119515, 1981], [181.1601192693385, 1985], [164.40793430055476, 2053], [158.24161079753205, 2640], [150.2809436790253, 2645], [158.59871917495906, 2648], [171.0168588873617, 2659], [162.15008458969865, 2668], [151.6288481277399, 2670], [204.0976893677294, 2671], [154.82685056598433, 2673], [158.53200893223263, 2674], [158.1972586211703, 2676], [179.1962876112759, 2677], [149.48512556773133, 2682], [179.48253346623315, 2691], [157.4039444673781, 2693], [151.82749931341766, 2705], [159.47764467700762, 2713], [176.70376706519323, 2724], [155.5913562657863, 2725], [191.52924968421328, 2726], [151.36747447413762, 2736], [179.8179059794255, 2738], [158.42113621820135, 2739], [158.27901609062363, 2744], [156.96914236908034, 2745], [155.3720468759385, 2749], [170.57905351660224, 2750], [198.58634302951444, 2751], [190.01842534491155, 2752], [192.77868363517854, 2753], [234.17537129240523, 2762], [244.96830845002975, 2763], [168.1640279492059, 2771], [154.76066737646312, 2773], [149.78031291821415, 2774], [153.033491077242, 2775], [175.02529103809795, 2779], [183.79260308946775, 2782], [182.14611823840121, 2784], [193.69233728073866, 2785], [152.77106744644604, 2786], [252.90064792321147, 2787]]\n",
      "9\n"
     ]
    }
   ],
   "source": [
    "# 拆分数据集\n",
    "# 1. 先看超出阈值的有多少个\n",
    "print([x for x in noise_degree_list if x[0] > 149])\n",
    "print(len([x for x in noise_degree_list if x[0] > 188]))"
   ]
  },
  {
   "cell_type": "code",
   "execution_count": 18,
   "metadata": {},
   "outputs": [
    {
     "name": "stdout",
     "output_type": "stream",
     "text": [
      "[[95, 2661], [97, 1862], [98, 1860], [99, 2066], [101, 2664], [102, 1693], [102, 1702], [102, 1824], [102, 1863], [102, 1948], [103, 1692], [103, 2660], [103, 2662], [104, 1861], [104, 2665], [105, 1250], [105, 2766], [106, 1643], [106, 1831], [106, 2651], [106, 2687], [107, 2018], [107, 2639], [107, 2649], [108, 1699], [108, 2686], [108, 2688], [109, 1742], [110, 1249], [110, 2663], [110, 2706], [110, 2720], [111, 2715], [112, 1226], [112, 1247], [112, 1701], [113, 2656], [113, 2658], [114, 2046], [114, 2721], [115, 2689], [115, 2768], [115, 2770], [116, 1590], [116, 1700], [116, 1966], [116, 2013], [116, 2015], [116, 2644], [116, 2692], [117, 2729], [117, 2756], [118, 1949], [118, 2790], [119, 1686], [119, 1950], [120, 1642], [120, 1747], [120, 2035], [120, 2654], [120, 2723], [120, 2761], [121, 1953], [121, 2051], [121, 2646], [121, 2767], [122, 1299], [122, 1687], [122, 1927], [122, 2704], [123, 1298], [123, 1820], [123, 2045], [123, 2052], [123, 2675], [123, 2730], [123, 2778], [124, 2016], [124, 2647], [124, 2760], [124, 2769], [124, 2777], [125, 1591], [125, 1592], [125, 1822], [125, 2017], [125, 2722], [125, 2757], [126, 1821], [126, 1826], [126, 1951], [126, 1967], [126, 2067], [126, 2772], [127, 1743], [127, 2014], [127, 2680], [127, 2683], [127, 2758], [128, 2036], [129, 1930], [129, 2666], [129, 2667], [129, 2776], [129, 2788], [129, 2789], [130, 1745], [130, 2652], [130, 2653], [130, 2655], [130, 2707], [131, 1300], [131, 2714], [131, 2732], [131, 2759], [131, 2783], [132, 2791], [133, 2678], [133, 2684], [133, 2731], [134, 1593], [134, 2019], [134, 2047], [134, 2681], [134, 2746], [135, 2733], [136, 2716], [137, 2657], [137, 2685], [138, 1588], [138, 1926], [138, 1980], [138, 2641], [138, 2755], [138, 2764], [139, 1236], [139, 2679], [140, 2044], [142, 2717], [143, 1323], [143, 1794], [143, 2690], [143, 2737], [143, 2780], [145, 2020], [145, 2672], [146, 2781], [147, 1931], [147, 1984], [147, 2712], [147, 2747], [147, 2754], [147, 2765], [148, 1324], [148, 2650], [148, 2748], [149, 1807], [149, 2682], [149, 2774], [150, 2645], [151, 1819], [151, 2670], [151, 2705], [151, 2736], [152, 1959], [152, 2786], [153, 2775], [154, 2673], [154, 2773], [155, 1589], [155, 2725], [155, 2749], [156, 1248], [156, 1981], [156, 2745], [157, 2693], [158, 2640], [158, 2648], [158, 2674], [158, 2676], [158, 2739], [158, 2744], [159, 2713], [160, 1929], [162, 2668], [164, 1237], [164, 1952], [164, 2053], [167, 1795], [168, 1825], [168, 1960], [168, 2771], [170, 1227], [170, 2750], [171, 2659], [172, 1823], [175, 2779], [176, 2724], [179, 2677], [179, 2691], [179, 2738], [180, 1808], [181, 1985], [182, 2784], [183, 2782], [190, 2752], [191, 2726], [192, 2753], [193, 2785], [198, 2751], [204, 2671], [234, 2762], [244, 2763], [252, 2787]]\n"
     ]
    }
   ],
   "source": [
    "# 想要全体的分数倒序，然后\n",
    "noise_degree_list = [[int(x[0]), x[1]] for x in noise_degree_list]\n",
    "noise_degree_list.sort(key=lambda x: x[0])\n",
    "print(noise_degree_list)"
   ]
  },
  {
   "cell_type": "code",
   "execution_count": 19,
   "metadata": {},
   "outputs": [
    {
     "data": {
      "text/plain": [
       "65"
      ]
     },
     "execution_count": 19,
     "metadata": {},
     "output_type": "execute_result"
    }
   ],
   "source": [
    "split_ratio = 0.3\n",
    "skip_index = int(len(noise_degree_list)*(1-split_ratio))\n",
    "score_skip_data_page = [x[1] for x in noise_degree_list][skip_index:]\n",
    "len(score_skip_data_page)"
   ]
  },
  {
   "cell_type": "code",
   "execution_count": 20,
   "metadata": {},
   "outputs": [
    {
     "name": "stdout",
     "output_type": "stream",
     "text": [
      "65\n",
      "149\n"
     ]
    }
   ],
   "source": [
    "# 拆分数据集\n",
    "condition = eye_tracking_data['page_id'].isin(score_skip_data_page)\n",
    "skip_data = eye_tracking_data[condition]\n",
    "not_skip_data = eye_tracking_data[~condition]\n",
    "print(len(skip_data))\n",
    "print(len(not_skip_data))\n",
    "skip_data.to_csv('data/final_data/skip_data.csv')\n",
    "not_skip_data.to_csv('data/final_data/not_skip_data.csv')"
   ]
  },
  {
   "cell_type": "markdown",
   "metadata": {},
   "source": [
    "# 生成单词level-fixation结合的数据集\n",
    "* 主要是取交集"
   ]
  },
  {
   "cell_type": "code",
   "execution_count": 21,
   "metadata": {},
   "outputs": [],
   "source": [
    "word_feature_with_correct = pd.read_csv('data/final_data/all-word-feature-20240723-103-with-correct.csv')\n",
    "word_feature_without_correct = pd.read_csv('data/final_data/all-word-feature-20240723-103.csv')"
   ]
  },
  {
   "cell_type": "code",
   "execution_count": 22,
   "metadata": {},
   "outputs": [],
   "source": [
    "word_feature_with_correct[word_feature_with_correct['page_id'].isin(score_skip_data_page)].to_csv('data/final_data/word-feature-with-correct-skip.csv')\n",
    "word_feature_with_correct[~word_feature_with_correct['page_id'].isin(score_skip_data_page)].to_csv('data/final_data/word-feature-with-correct-not-skip.csv')\n",
    "word_feature_without_correct[word_feature_without_correct['page_id'].isin(score_skip_data_page)].to_csv('data/final_data/word-feature-without-correct-skip.csv')\n",
    "word_feature_without_correct[~word_feature_without_correct['page_id'].isin(score_skip_data_page)].to_csv('data/final_data/word-feature-without-correct-not-skip.csv')"
   ]
  }
 ],
 "metadata": {
  "kernelspec": {
   "display_name": "base",
   "language": "python",
   "name": "python3"
  },
  "language_info": {
   "codemirror_mode": {
    "name": "ipython",
    "version": 3
   },
   "file_extension": ".py",
   "mimetype": "text/x-python",
   "name": "python",
   "nbconvert_exporter": "python",
   "pygments_lexer": "ipython3",
   "version": "3.12.2"
  }
 },
 "nbformat": 4,
 "nbformat_minor": 2
}
